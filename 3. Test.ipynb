{
 "cells": [
  {
   "cell_type": "code",
   "execution_count": null,
   "metadata": {},
   "outputs": [],
   "source": [
    "from tqdm import tqdm\n",
    "import io, json\n",
    "import pandas as pd\n",
    "import config.EnvLoader as el"
   ]
  },
  {
   "cell_type": "code",
   "execution_count": null,
   "metadata": {},
   "outputs": [],
   "source": [
    "# To get the test data run Training DF contrustion ipynb\n",
    "with open('test_data.json', 'r') as file:\n",
    "    test_data = json.load(file)"
   ]
  },
  {
   "cell_type": "code",
   "execution_count": null,
   "metadata": {},
   "outputs": [
    {
     "data": {
      "text/plain": [
       "1044"
      ]
     },
     "execution_count": 5,
     "metadata": {},
     "output_type": "execute_result"
    }
   ],
   "source": [
    "question_lst = [x[\"question\"] for x in test_data]\n",
    "len(question_lst)"
   ]
  },
  {
   "cell_type": "code",
   "execution_count": 7,
   "metadata": {},
   "outputs": [
    {
     "name": "stderr",
     "output_type": "stream",
     "text": [
      "7830it [01:07, 115.57it/s]\n"
     ]
    }
   ],
   "source": [
    "ground_truth = {}\n",
    "test_data_short_answers = []\n",
    "\n",
    "with open(\"v1.0-simplified_nq-dev-all.jsonl\") as file:\n",
    "    for line in tqdm(file):\n",
    "        line = io.StringIO(line)\n",
    "        jsonObj = pd.read_json(path_or_buf=line, lines=True)\n",
    "        question = jsonObj['question_text'][0]\n",
    "        # Check if question is in test data\n",
    "        if question not in question_lst: continue\n",
    "        # Check if observation has a short answer\n",
    "        short_answers_spans = []\n",
    "        for ann in jsonObj['annotations'][0]:\n",
    "            ann_sa = ann.get(\"short_answers\", [])\n",
    "            if ann_sa:\n",
    "                short_answers_spans.append(ann_sa)\n",
    "        if not short_answers_spans: continue\n",
    "        # Extract the short answer\n",
    "        short_answers = []\n",
    "        for short_answer_span_lst in short_answers_spans:\n",
    "            candidate_answers = set()\n",
    "            for short_answer_span in short_answer_span_lst:\n",
    "                candidate_answers.add(' '.join([x['token'] for x in jsonObj['document_tokens'][0][short_answer_span['start_token']:short_answer_span['end_token']]]))\n",
    "            if candidate_answers not in short_answers:\n",
    "                short_answers.append(candidate_answers)\n",
    "        ground_truth[question] = short_answers"
   ]
  },
  {
   "cell_type": "code",
   "execution_count": 8,
   "metadata": {},
   "outputs": [
    {
     "data": {
      "text/plain": [
       "803"
      ]
     },
     "execution_count": 8,
     "metadata": {},
     "output_type": "execute_result"
    }
   ],
   "source": [
    "len(ground_truth)"
   ]
  },
  {
   "cell_type": "code",
   "execution_count": 9,
   "metadata": {},
   "outputs": [
    {
     "data": {
      "text/plain": [
       "dict_keys(['what do the 3 dots mean in math', 'who won the 2017 sports personality of the year', 'who was the first chief minister of west bengal', 'a good that can be used in place of another good', \"who plays unis in she's the man\", 'who is recognized as the founder of islam', 'who plays emma in air bud world pup', 'how old was sasuke when his clan died', \"who hosted they think it's all over\", \"where did the saying monkey's uncle come from\", 'where does us highway 1 start and end', 'what type of fuel goes in a zippo', 'who played the mad hatter in the batman tv show', 'in photosynthesis the carbon in co2 is initially fixed to what molecule', 'how many countries does cadbury sell its products', 'who wrote the book my country my life', 'what does it mean to be on parole', 'who is the founder of google and when was it founded', 'how did early humans make use of stones during the prehistoric period', 'who won the champions league final in 2016', 'what do the economic systems of the uk germany and russia have in common', 'who played john clark sr on nypd blue', 'does archie end up with betty or veronica in riverdale', 'who wrote most of the declaration of independance', 'how does the power of judicial review check the legislative and executive branches', 'who played amy grant i i can only imagine', 'where does eye of the round roast come from', 'how many seasons are there for lost girl', 'when is the new jurassic world game coming out', 'what was icq as related to instant messaging', 'when is the last time the new york giants won the super bowl', 'who won the battle of stirling bridge 1297', 'where does the chinatown bus stop in nyc', 'how many players have scored 10000 runs in odi', 'who has won the most f1 grand prix', 'who is the guy on keeping up with the kardashians', 'birth certificates are most often completed by the department', 'the first political society started under british rule in india was', 'what is an example of a tricyclic antidepressant', 'where does the term pop music come from', 'where was percy jackson and the olympians filmed', 'who sings i want to be a rockstar', 'what is the time setting of game of thrones', 'bowler to take hattrick in both inning in test match', 'communities of similar organisms found in a particular environment are called', \"who wrote i'm in the mood for dancing\", 'what does it mean when you roll your thumbs', 'what does the keys to the city mean', 'why did the colonists have a problem with the tea act of 1773', 'who started the tradition of coloring easter eggs', 'how long did it take to build the great pyramid of egypt', 'christmas though a christian holiday began as a celebration of', 'who said beware of the ides of march', 'how many times has south korea held the winter olympics', 'when was the dome of the rock completed', 'abbreviated name of the highest peak in tasmania', \"who's opening for foo fighters at fenway\", 'who represents the insured in the investigation of a claim', 'how does sweden view its role during war-time', 'what states do not allow daylight savings time', 'who sang i want to be bobbys girl', 'great tang dynasty record of the western regions', 'who is the founder of el pollo loco', 'where is connective tissue found in the body', \"who sings i'll sleep when i'm dead\", 'who played chaka on land of the lost tv show', 'what river flows through charleston west virginia’s capital', 'when does the heart develop and begin pumping blood', 'what is the movie dazed and confused about', 'who is the longest serving manager in manchester united history', 'where did the ancestors of the domestic goat originate', 'how many dominoes do you need for mexican train', 'when was the last time the crows were in the grand final', 'what is the scientific name for the calf muscle', 'where is wind power used most in the united states', 'who sang once upon a dream at the end of maleficent', 'jawaharlal nehru centre for advanced scientific research jakkur campus', 'when are general elections held in the us', 'who played in the stanley cup finals last year', 'who has been appointed as the election commissioner of india', 'when does episode 29 of boruto come out', 'where did the british empire control an entire continent', 'when should a non rebreather mask be used', 'distinctive characteristics of animals classified as vertebrates include', 'where did they film the game of thrones', 'who does the music for shimmer and shine', 'who are the judges on do you think you can dance', 'how did the constellation bootes get its name', 'in sons of anarchy who is sam crow', 'who plays the dad in pretty in pink', 'what is mercy mercy me by marvin gaye about', 'when did lord howe island became a world heritage site', 'who plays dusty in the movie pure country', 'who gave a speech to the democratic national convention in 1984', 'a request to the supreme court that it review a case that was already decided is made via a(n)', 'who sang the them song for as told by ginger', \"who sings my anaconda don't want none\", 'who sang i ran all the way home', 'capital of georgia the former soviet republic 7 letters', 'who sang i dig rock and roll music', 'how did orchestra change in the romantic period', 'how many seasons of rules of engagement is there', 'where does the red river start and end in louisiana', 'where does cerebrospinal fluid flow to when it exits the cerebral aqueduct', 'what must be present for a combustion reaction to occur', 'the supreme court only have original jurisdiction in two kinds of cases', 'what is the oldest street in the philippines', 'in florida it is illegal to sell alcohol before 1 pm on any sunday. this is an example of', 'who is the first indian who got oscar for lifetime achievement', 'who sang the song oh what a lonely boy', 'the taj mahal served as an example of aesthetic value for this kind of function', \"what was hawaii's primary export to the united states\", 'where does the last name hidalgo come from', 'most home runs by 2 teammates in a season', 'season 2 attack on titan how many episodes', \"actor who plays dr avery on grey's anatomy\", 'who played buffy the vampire slayer in the movie', 'what is the general structure of an url', 'when did the first movie of harry potter come out', 'when is i can only imagine coming out', 'where did the new york giants baseball play', 'where does iron ore come from in australia', 'where does a roadrunner live in the desert', 'in the honour of which god is anant chaturdashi celebrated', 'when did audio video and the film industry begin', 'what was the book wealth of nations about', \"what is australia's location in the world and region\", 'at what age are you no longer a toddler', 'how many episodes are there in ordeal by innocence', 'who gets first pick of fa cup games', 'who do they fight in the justice league', 'who said life is like a bowl of cherries', 'state the position of india in terms of population size', 'how many house of representative do we have in nigeria', 'who sings blame it on the bossa nova', 'when is the state of the union addressed', 'when was the last time the los angeles lakers won a championship', 'different ways to spell corey for a boy', 'how many counties does the state of georgia have', 'who sang picking up pebbles and throwing them into the sea', 'dark parables return of the salt princess release date', 'who played emma in h2o just add water', 'where can carbon be found in the biosphere', 'who is the winner of bigg boss kannada season', \"where was don't you worry child filmed\", 'what does the m number mean on a pint glass', 'what is the definition of an alpine lake', 'the christian church used which holiday to take attention away from samhain', 'who formed and first came to the colony of maryland', 'whats the most liked picture on instagram 2018', 'where did you go to drink during prohibition', 'who came up with the term baby boomer', 'who played anne in anne with an e', 'who sings the song one thing leads to another', 'how many medals did austria win in the 2011 alpine skiing world championships', 'mount and blade with fire and sword time period', 'where does the last name baca come from', 'in 1945 which party came into power in england', 'when is the next deadpool movie being released', 'who was the governor general of india when country became independent', 'cast of law & order special victim unit', 'where is the tv show the curse of oak island filmed', 'where is gall bladder situated in human body', 'where do the greasers live in the outsiders', 'who died in the plane crash greys anatomy', 'who wrote cant get you out of my head lyrics', 'who did shakespeare write his play hamlet for', 'who took over for batman when his back was broken', 'what is the form of mozart symphony no 40', 'the vascular layer of the eye is the', 'who wrote the song the glory of love', 'where did the term spirits for alcohol come from', 'when did disney art of animation resort open', 'where does kevins family go in home alone 2', 'what is the job of justice of the peace', 'whens the last time the patriots played the eagles', \"who's playing in the world series and when is it\", 'what caused the breakup of the democratic republican party', 'who has the most podium finishes in australia', 'who warned europe to stay out of the americas', 'who dies in season 6 of once upon a time', 'genre of diary of a wimpy kid the getaway', 'where is the protien made in the cell', 'where was a time for choosing speech given', 'what was the purpose of a revival meeting during the second great awakening', 'when did toyota first come to the united states', 'who sings the theme song for the tv show cops', 'where is kruger national park in south africa', 'what are the parts of a domain name called', 'who captained the first european ship to sail around the tip of africa', 'who sang a whiter shade of pale first', 'who played ricky in secret life of the american teenager', 'industrial city in germany on the rhine herne canal', 'who lives in the blue house in balamory', 'when was the first episode of scooby doo', 'who plays sheila carter on the bold and the beautiful', 'what position did doug peterson play in the nfl', 'what gun does the california highway patrol use', 'when did jack mccoy join law and order', 'who died in the first episode of stranger things', 'who won the national championship in volleyball 2017', 'name a food you might eat on thanksgiving', 'which country has the smallest population in europe', 'where was held the first session of muslim league', 'who is the head a in pretty little liars', 'what new deal program limited production in industry', 'who played raquel in only fools and horses', 'what type of political system does el salvador have', 'what is the role of hcl in the stomach', 'what is the song in red dead redemption', 'who ran the fastest 40 yard dash in the nfl', 'actress who plays brad pitts wife in war machine', 'when did world war 2 officially start and end', 'who is the book of galatians written to', 'what type of song is what a wonderful world', 'which is the first private medical college in kerala', 'tujhe dekha toh yeh jana sanam movie name', 'when was i look at the world poem written', 'what is the name of the hyena in lion king', 'what percentage of the world population is vegan', 'when did movies start coming out in color', 'where did hasta la vista baby come from', 'dendrites and cell bodies are components of what type of matter found in the brain', 'mention any two function of the speaker of the lok sabha', 'what are the main functions of the stem', 'who played in the first fifty shades of grey', 'how many episodes in season 3 of good witch', 'what genre is the magic tree house books', 'who plays the mouse in alice in wonderland', 'who did us fight in world war 1', 'who was the head of the spanish inquisition', 'what is a work function of a metal', 'does reaching base on an error count as an at bat', 'who plays red on orange is new black', 'how many types of cheese are produced in france', 'where was the last scene of goonies filmed', 'what does g stand for in ncis los angeles', \"who plays whitey bulger's girlfriend in black mass\", 'how much did disneyland paris cost to build', 'who was in dont worry be happy video', 'when did they stop putting lead in paint', 'where does the paraguay river start and end', 'when does kc undercover season 3 episode 10 air', 'where is tigris river located on the world map', 'when do we find out luke and leia are siblings', 'who wrote the original little red riding hood story', 'what is the enrollment at university of miami', 'who says that which we call a rose', 'when was the last time stock market crashed', \"who is mowgli's main enemy in the jungle book\", 'what is the name of the gap between two front teeth', \"who has won 2017 women's singles korean open series badminton championship\", 'where is south pole located on a map', 'where do the florida marlins have spring training', 'how many episodes is ash vs evil dead season 3', 'what is the word for clarified butter in the balkans and middle east', 'what is a home run with a girl', 'who owns spirit of the suwannee music park', 'who is the father of genetics and what did he study', 'where was the first session of the assam association held in1905', 'who sang the song with reba does he love you', 'skin that covers the palms fingertips and soles of the feet', 'who dies in the lost city of z', 'where do the astros play for spring training', 'where does the eurostar train arrives in london', 'what is the average depth of the english channel', 'krypton-85 decays by emission of a beta particle. the product of this decay is', 'who sings every light in the house is on', 'who was the leader of the soviet union when the berlin wall was built', 'who is the first indian woman to be canonized as a saint', 'the assassination of gianni versace american crime story season 2 episode 2', 'batman the enemy with episode 5 release date', 'what does the ghost of christmas present sprinkle from his torch', \"who wrote he ain't heavy he's my brother lyrics\", 'what determines the number of senate seats held by each state', 'when was the lupus foundation of america founded', 'who wrote you must have been a beautiful baby', 'where does sleeping freshmen never lie take place', 'where was the witch of blackbird pond published', 'when was the last time there was a school shooting in canada', 'when did the us cut off trade with cuba', 'when did seattle slew win the triple crown', 'who won the silver medal in womens figure skating', 'who lived in jamestown before the arrival of the english', \"who are you in assassin's creed 4\", 'what is the aim of the consumer credit act', 'where is the white castle that harold and kumar go to', 'when did britain set up east indian trading company', 'how many times has psg won champions league', 'how many times have real madrid won the european cup.in paris', 'the radiographic term used to describe the dense bone of the socket and septal crest is', 'what did the guano islands act allow the us to do', 'who led an attack that allowed for american victory at yorktown', \"who sings somebody's watching me with michael jackson\", 'when did the us stop trading with japan', 'who is the king and queen of the netherlands', 'what are the value of style guides and style sheet', 'what happened at the 1939 worlds fair in regards to television', 'how did long john silver lose his leg in treasure island', 'who has won the most superbowls as a player', 'who sings the pokemon theme song season 1', 'where does wild caught sockeye salmon come from', 'an object that moves around an external axis is said to be', 'what nba team did derrick rose play for', 'what year did the us hockey team won the olympics', 'who rebuilt the temple after the babylonian captivity', 'who was executed for being an american spy during the revolutionary war', 'where will the next summer and winter olympics be held', 'when did canada gain independence from great britain', 'what is the movie about six degrees of separation', 'who is credited with the discovery of the neutron', 'where did an independence movement occur because of the congress of vienna', 'who did the 49ers beat in the super bowls', 'what hangs from the trees in the bayou', 'what is a e8 in the marine corps', 'who won the 10m air pistol gold medal at commonwealth shooting championship in brisbane australia', 'what is the value of the currency in paraguay', 'natural resources can be divided into what two categories', 'the oligodynamic effect is a phenomenon that describes', 'when was nepal declared a secular state in bs', 'who took control of jamestown and made new rules that made everyone work', 'the site of secretion of h+ and cl-', 'what us state forms the western boundary of montana', 'what mlb teams did deion sanders play for', 'where was the summer olympics held in 2012', 'where was the film coming home for christmas filmed', 'the story of the persistent widow in the bible', 'who played the middle sister on full house', \"who said one man's vulgarity is another's lyric\", 'what is on top of us capitol building', 'who took the first steps on the moon in 1969', 'who won college basketball player of the year', 'where does the coral sea meet the pacific ocean', 'who started the guinness book of world records', 'where did the last name edwards come from', 'who plays the saint of killers on preacher', 'where was the movie last stand at saber river filmed', 'when was corporal punishment banned in south africa', 'when did sierra nevada brewery open in asheville', 'where is bermuda located on the world map', 'only player to play for manchester united manchester city liverpool and everton', 'what is a buckeye the mascot for ohio state university', 'who is the quarterback for the green bay packers', 'when is the 5th round fa cup played', 'what is the function of the cartilaginous rings in the trachea', 'when is the season finale of designated survivor', 'where does the cell spend most of its time in the cell cycle', 'tumhi ho bandhu sakha tumhi cast real name', 'who sang how long has this been going on song', 'who is ishani in lies of the heart', 'what is it called when you believe in greek gods', 'who won first ancient olympic 200 yard race', 'most of new zealands land supports which economic activity', 'when did john hart play the lone ranger', 'when did sussex split into east and west', 'who was suite judy blue eyes written about', 'who won the most medals at the 2014 winter olympics', 'what are the lives used for in trivia crack', 'who was the 19th c. artist who was both painter and graphic designer', \"where did huntington's disease get its name\", 'who wore number 7 for the green bay packers', 'how long did the democrats control the house and senate', \"who wrote ain't living long like this\", 'what does a bull shark tooth look like', 'when do love and hip hop new york come back on', 'when was it was not death for i stood up published', 'who is president of india in present time', 'when did season 4 of glee come out', 'what is the basic principle of christian morality', 'who played solomon in little house on the prairie', 'who was first governor general of british india', 'what are maria and anita doing when the audience first meets them', 'term limits for house of representatives and senate', 'what is the 180 degree line of longitude called', 'who played the face in the a team', 'where is the citrus bowl held this year', 'who made possible the first reproduction of the human voice on the phonograph', 'the atomic number of indium which belongs to 5th period is', 'when did television come out in the us', 'who plays on the tv show the resident', \"what effect did russia's signing of the treaty of brest-litovsk have on wwi\", 'which material is the heaviest in term of density', 'what awards did the curious case of benjamin button win', \"who won the medals in men's figure skating 2018\", 'who played the mom in the partridge family', 'where is fe best absorbed in the body', 'what are the power of supreme court in the philippines', 'the battle of salamis was significant because it', \"the core of the sun in which the sun's thermonuclear energy is produced takes up about\", \"what kind of book is where's waldo\", \"who won latest america's next top model\", 'when was south african youth day first celebrated', 'who has the most trophies in la liga', 'who sings the theme song to all that', 'what was the purpose of the mall of america', 'who does betty end up with on riverdale', 'who won the american league east in 2017', 'what is the real name of our sun', 'who plays the scary nun in the conjuring 2', 'what is to be done burning questions of our movement', 'who grows the most coffee in the world', 'when did are you smarter than a 5th grader first air', 'where did the indian myna bird come from', 'nobel laureate who began career as accountant in calcutta', 'what was the first light beer in the us', 'how much does a new gulfstream g650 cost', 'when was the last time clemson won the national championship', 'what is the wavelength of the electromagnetic wave', 'who has sold more albums kelly or carrie', 'where does the term jack mormon come from', 'star cast of ab tumhare hawale watan sathiyon', 'who played the jewish man in coming to america', 'who were the twins that played for kentucky', 'list of local government area in benue state', 'who does demetrius love in a midsummer night dream', 'where does the term parsons nose come from', \"forney's sister in where the heart is\", 'when did the study of media effects begin', 'what was the name of the horse in steptoe and son', 'who is buried in the tomb of the unknown soldiers', 'which indian actor has won most national awards', 'where is virginia beach located on a map', 'where did the methodist church get its name', 'the lowest temperature at which a lubricant will flow is called the', 'name the four major layers of the earth in order', 'how many levels of protein structure are there', 'when is the last time the jaguars won a playoff game', 'who has the best nba record this season', 'what areas of africa were involved in colonization', 'when does a building need a fire pump', 'interferons alpha and beta are effective against viruses', 'which state was returned to spain after the revolutionary war', 'how many seasons has greys anatomy been on tv', 'when was the suite life of zack and cody made', 'who wrote if she knew what she wants', 'who enforces the charter of rights and freedoms', 'where was the eagles song hotel california written', 'region of antarctica where march of the penguins filmed', 'what went wrong on the columbia space shuttle', \"who was the voice of templeton in charlotte's web\", 'in the dynastic cycle what is the right to rule called', 'who played scotty baldwins father on general hospital', \"who won last year's grand national 2017\", 'when does brooklyn nine nine season 5 episode 12', 'when do new episodes of riverdale season 2 come out', 'the xix of the social security act of 1965 established', 'who plays auggie in the movie the wonder', 'who proposed the virginia plan at the constitutional convention', 'love yourself by justin bieber is about who', 'where does the electron transport chain get its electrons from', 'what is the ethnic background of the shib sibs', 'where was the film the remains of the day filmed', 'what is the processor for google nexus 5', 'who is directly elected according to the constitution', 'who has won the most college football national champions', \"where is lord's prayer found in bible\", \"what's the largest city park in the united states\", 'what year is it for the jewish calendar', 'where is the diaphragm located on the human body', 'what is the setting of the story sorry wrong number', 'where does the last name fisher originate from', 'which financial statement involves all aspects of the accounting\\u200b equation', \"who plays bianca in that's so raven\", 'who were the two mathematicians that invented calculus', 'who proposed that electrons behave like waves and particles', \"what percentage of the earth's surface is water\", \"where does bird's nest soup come from\", 'when does the last episode of adventure time air', \"who is the girl in the stone sour video say you'll haunt me\", 'who sings in cry baby for johnny depp', 'what type of database is library literature and information science', 'who is the actress that plays penny on the big bang theory', 'who is known as the philippine queen of bossa nova', 'who was the father of the princes in the tower', 'who votes for nba defensive player of year', 'what is the salary of the ceo of microsoft', 'who was the baby in ghost busters 2', 'why 26 january is celebrated as republic day in hindi', 'when is season 8 for game of thrones', 'when did the ouija board game come out', \"who wins america's next top model cycle 20\", 'where does the path train stop in newark', 'who played the detective in little boy blue', 'who is the head of parliament in uk', 'which term means the study of the nature and causes of disease', 'who played pink in pink floyd the wall', 'what stations in seattle are owned by sinclair', 'when did the smoking ban in public places start', 'who was the greatest pool player of all time', 'the sport psychology sub-field of performance enhancement deals primarily with', 'who killed missy in a bend in the road', 'where is hindu kush mountains located on a map', 'when did one child policy end in china', 'what is the number of true positives (tp)', 'how many episodes are there in season six of nashville', 'what is the limit of resolution of the human eye in micrometers', 'where is the nfl game in london played', 'who turns into a bear in the hobbit', 'when did reba mcentire record back to god', 'what is the wave length of x rays', 'who plays david in alvin and the chipmunks', 'where does the karate kid 2010 take place', 'which body system differentiates a male from a female', 'who negotiated an agreement with japan concerning the future of korea', 'what was the final episode of quantum leap', 'panic at the disco la devotee video cast', 'how many jimmy johns are there in the us', 'where is the oldest civilization known to man', 'what episode does caroline come into the originals', 'who played sarah hedley in when the boat comes in', 'the resting stage of the cell cycle is', 'when was the last person executed in florida', \"who wrote the song after you've gone\", 'when was the last time the womens hockey team won gold', 'when did cristiano ronaldo go to manchester united', 'what was the outcome of the battle of san juan hill', 'who said have you no sense of decency', 'what states were most affected by the dust bowl', 'when did the eagles play in the superbowl', 'who starred in the film walk the line', 'bosnia and herzegovina croatia macedonia and slovenia all used to be parts of', 'doric ionic and corinthian orders all refer to types of', 'who made the first to record with the electric guitar', 'who won three stanley cups in a row', 'who played young monica in love and basketball', 'when does the first act of arms and the man take place', 'who is the premier of northern cape 2018', 'which was the first village of karnataka which declared independence', 'who wrote i can feel at home in this world anymore', 'where did the french immigrants settle in texas', 'how many seasons of the smurfs are there', 'who does the voice of nelson on simpsons', 'the duluth model is an intervention program that emphasizes', 'explain the role of glycogenin in glycogen synthesis', 'how old is baby in dirty dancing movie', 'when was 13 reasons why released on netflix', 'who are considered to be the founding fathers', 'who supported states rights during the civil war', 'what album is help by the beatles on', 'who wrote catch 22 (both names)', 'when does season 8 of hawaii five o premiere', 'where is tv series death in paradise filmed', 'who sang from russia with love james bond', 'who sang gonna sit right down and write myself a letter', 'how many rooms is there in buckingham palace', 'where did they get the tree for rockefeller center', 'what is the second largest country in asia', 'when did the angel of the north get built', 'when did mcgee became a regular on ncis', 'is a network connection device that can build tables that identify addresses on each network', 'how many hospitals are there in the united states', 'what movies have the song who let the dogs out', 'who monitor the recovery of the location during a disaster', 'who does tyler end up with in you get me', 'where does the arrow of a wind vane point', 'where was thomas and the magic railroad filmed', 'how i met your mother the goat episode', 'who did the singing in into the woods', 'what is the meaning of adnan in hindi', 'where is the cerebrum of the brain located', 'who does the voice of the elephant in sing', 'what was the purpose of the enabling act', 'how many countries participated for the first time in the 2014 olympic winter games in sochi', 'what was the goal of the civilian conservation corps', 'what percentage of the us population lives below the poverty line', 'input that tells the computer which task to execute is', 'when was the last time new england had a hurricane', \"what's the name of the last mission impossible movie\", 'what time is it in alaska time zone', 'when did the first fleet arive in australia', 'when did the sat become out of 1600', 'who invented the chip in. debit cards', 'who picks the chief justice of the illinois supreme court', 'who began the age of exploration in portugal', 'how can you remove the defect of vision presbyopia', 'where is the great barrier reef national park located', 'los angeles stadium at hollywood park opening date', 'when did the nba start playing zone defense', 'new anime from the creators of attack on titan', 'who sang the songs in the movie beyond the sea', 'who played the creature on jeepers creepers 3', 'what type of energy do satellites generally use to communicate with earth', 'where did maria work in west side story', 'during the first world war against which country germany did not fight', 'when is season 7 race to the edge coming out', 'who was a patriot in the american revolution', 'when is the fa cup semi-finals being played', 'what does it mean to fuse the spine', 'who sang if this world were mine with luther vandross', 'when does synapsis of homologous chromosomes occur in mitosis', 'what is a serrated adenoma of the colon', 'where does the us launch space shuttles from', 'when does new model year start for cars', 'who is the first indian climber of mount everest', 'who is the robot in lost in space 2018', 'when was the letter j introduced to the alphabet', 'what is money as a medium of exchange', 'when did somewhere over the rainbow come out', 'which layer of the osi model handles physical addressing', 'when does season 7 game of thrones dvd release', 'when did hootie and the blowfish come out', \"what's the medal count for canada in the olympics\", 'when was the last easter fell on april 1', 'what does it mean to be pound for pound', 'who is new prime minister of italy 2018', \"when did rob dyrdek's fantasy factory end\", 'where does the word seed come from in sports', 'who is regarded as the founder of psychoanalysis', 'who was the chief guest of 2014 republic day', 'what is the multiplication sign on the computer', 'who was the first person to successfully introduce a device exclusively designed for data processing', 'where was the tv show high chaparral filmed', 'authorities involved in formulating accounting standard in india', 'how far is the pitchers mound to home plate in little league baseball', 'what happened to western rome after it fell', 'where is the ucla usc game being played', 'when did the first pokemon game come out', 'when does the shape of water book come out', 'who caused to build qutub minar in delhi', 'what is the purpose of a continuing resolution', 'when did krakow become the capital of poland', 'when was looking for a sunset bird in winter written', 'when did slave to the rhythm come out', 'who sings oh what a night late december back in 63', 'who sings the christmas song mary did you know', 'who sings the song i feel it still', \"where did spock's hand sign come from\", 'who has won the most masters green jackets', 'who runs the senate on a day to day basis', 'what is the latest edition of the intelligent investor', \"what goes on the bottom of shepherd's pie\", \"who's winning the election in virginia for governor\", 'who was elected senator of illinois in 1858', 'where is the university of wisconsin madison located', 'where did the tradition of the pinata come from', 'where did the last name keith come from', 'who is the leader of the ontario pc party', 'nitty gritty dirt band fishin in the dark album', 'in order to prove disparate impact you first must establish', \"who recorded i can't help falling in love with you\", \"who has been chosen as the brand ambassador of the campaign 'beti bachao-beti padhao\", 'who has the oldest team in the nba', 'how many lines of symmetry are there in a equilateral triangle', 'when will the next episode of flash be aired', 'who is edmund on days of our lives', 'who sang in the movie i walk the line', 'where was the capital of the habsburg empire located', 'who plays general hux in the last jedi', 'where was the flag placed on the moon', 'how long do nhl players stay on waivers', 'who sings jungle book i wanna be like you', 'red and white flag with circle of stars', 'which government had more power under the articles of confederation', 'how many super bowl games has the patriots played in', 'who plays lefou in beauty and the beast 1991', 'when was the chain first used for f1', 'what is the concept of unfair labor practice in labor code', 'who was the war of 1812 fought between', 'where did little mix come in x factor', 'when does the day of the dead end', 'the temperature of gas is proportional to the', 'who were the first settlers in san antonio', \"who sings you can't get what you want\", 'where does sex and the city take place', 'what year did the golden state warriors win their first nba championship', 'who is the guy that jumped from space', 'what is the average time in hospice care', 'who played maudie in the movie el dorado', \"the nurses' health study is an example of what type of study\", 'when were the beatles inducted into the rock and roll hall of fame', 'where in the constitution is the executive branch referenced', 'who coined the phrase let them eat cake', 'who claimed land in south america for portugal', 'which gene segments code for the variable region of the heavy chain', 'when does star wars battlefront 2 com out', 'when does season 5 of ruby come out', 'when does the boy in the striped pajamas take place', 'where did the meech lake accord take place', 'who was the grandfather on the cosby show', 'where did the tea come from in the boston tea party', 'who is the largest supermarket chain in the uk', 'has been honoured with the wisden leading cricketer in the world award for 2016', \"the most stable mineral at the earth's surface\", 'who did the whistling in the muppet movie', 'when did scotland last qualify for world cup', 'when was how deep is your love released', 'what happens to water that infiltrates the soil if it is not absorbed by the roots of plants', 'the golden age of india took place during the rule of the', 'when is the world consumer right day celebrated', 'who plays hulk in the thor and avengers series of movies', 'when does an x sound like a z', 'who won the mens curling in the olympics 2018', 'who sings i feel love with the blue man group', 'what was the meaning of the song puff the magic dragon', 'the type of display that google glass presents to its users is called what', 'when does season 3 of strnger things come out', 'who won the battle of the first battle of bull run', 'where does the term helter skelter come from', 'what category was hurricane charley when it hit florida', 'where in the bible is the book of revelation', \"the cast of don't tell mom the babysitter's dead\", 'when did toyota start making cars in the us', 'which state is the richest state in nigeria', 'who was ursula the sea witch based on', 'who won the 7 man elimination chamber match', 'how does montgomery died in the island of dr moreau', 'a synonym for the content component of communication is', 'the initial unification of upper and lower egypt took place during which period', 'where do the sharks play in san jose', 'where did they film season 8 of the walking dead', 'how many episodes of season 5 of curse of oak island', 'where does the last name rudolph come from', 'where was robin hood prince of thieves made', 'how many national parks are present in india', 'what is an open university grade 3 pass', \"when did drop it like it's hot release\", 'what is the main industry in the canadian shield', 'how does the us government form a more perfect union', 'most polluted city in the world according to world health organization', 'who is usually appointed as the chief justice of india', 'where did immigrants enter the us on the west coast', 'how many numbers are in the euromillions draw', 'who painted the world famous painting the last supper', 'what is the name of india pakistan border', \"atlantic ocean's shape is similar to which english alphabet\", 'what is the written dialogue portion of a musical called', 'the general term for software that is designed to damage disable or steal data is', 'who did america declare war on in ww1', \"who played major hochstetter in hogan's heroes\", 'what is property of a system in thermodynamics', 'who is the song diamonds and rust about', 'which term is used to identify having official power to act', 'what is the system of government in japan', 'who shot first in the shot heard around the world', 'batman and robin episode only fools and horses', 'who starred in the pirates of the caribbean', 'spyder from once upon a time in venice', 'nodding your head no is an example of', 'where is the suez canal located on a map', 'when does south by southwest start in austin texas', 'how many episodes of the white princess will there be', 'who made the movie fifty shades of grey', \"who sang it's a mean old world\", 'where did they film ghosts of girlfriends past', 'where did the battle of lexington and concord occur', 'where is final four being held this year', 'symbolic interactionism is the basis for which theoretical model', 'when does the next season of wynonna earp start', 'who played michael jackson in jackson 5 movie', 'when did brent barry won the dunk contest', 'who are the co hosts on the real', \"who becomes chief resident on grey's anatomy season 7\", 'how many seasons of vampire diaries r there', \"when does jo come in grey's anatomy\", \"where was the new pete's dragon filmed\", 'is it marley and me or marley and i', 'active absorption of water from the soil by the root is mainly affected by', 'who sings the theme tune to mum on bbc2', 'what were rough riders in the spanish american war', 'who plays lady talisa in game of thrones', \"who plays carrie's boss on king of queens\", 'what is the account number of airtel payment bank', 'when did little polveir win the grand national', 'when did the sims 4 toddlers come out', 'who were the judges on dancing on ice 2014', 'who plays young voldemort in the half blood prince', 'when did the military plane crash in mississippi', 'this type of nuclear decay effectively turns a proton into a neutron', \"where does the us men's national soccer team practice\", 'where does water come from in new york city', 'who wrote the theme song for the winter olympics', 'how long were the pyramids the tallest structure', 'who present the central budget in lok sabha', 'when did ford change the f150 body style', 'who played the little boy in polar express', 'who played the elephant man in the film', 'who plays the mom on the tv show mom', 'where are the first nations located in canada', 'who played little ricky on i love lucy show', 'when was clash royale released in the us', 'when does the new season on the 100 come out', 'where do the hearts of palm come from', 'when did the great plague of london start and end', 'three major provisions of the age discrimination in employment act of 1967', 'when was the book pride and prejudice written', 'when was the last time that the eagles were at the super bowl', 'through what process has the colorado river created the grand canyon in the usa', 'who started ww2 and how did it start', 'when do you pray the chaplet of divine mercy', 'who has majority in the house and senate', 'who has the highest paid contract in the nba', 'where did iowa state football coach come from', 'who developed the first printing press in 1430s', 'when do wood thrushes fly when they are migrating', 'how long is one full rotation of the earth', 'who is singing in something just like this', 'different ways to say bless you in french', 'when was the first election held in india', 'what age do you have to be to buy cigarettes in california', 'where is simple squamous epithelium found in the body', 'who were some leaders during the progressive era that fought for equal rights', 'when does rick and morty play on tv', 'original cast of natasha pierre and the great comet of 1812'])"
      ]
     },
     "execution_count": 9,
     "metadata": {},
     "output_type": "execute_result"
    }
   ],
   "source": [
    "ground_truth.keys()"
   ]
  },
  {
   "cell_type": "code",
   "execution_count": 10,
   "metadata": {},
   "outputs": [
    {
     "data": {
      "text/plain": [
       "[{'substitute good'}, {'A substitute good'}]"
      ]
     },
     "execution_count": 10,
     "metadata": {},
     "output_type": "execute_result"
    }
   ],
   "source": [
    "ground_truth['a good that can be used in place of another good']"
   ]
  },
  {
   "cell_type": "code",
   "execution_count": 32,
   "metadata": {},
   "outputs": [],
   "source": [
    "import pickle\n",
    "with open(\"ground_truth.pkl\", 'wb') as file:\n",
    "    # Serialize and write the variable to the file\n",
    "    pickle.dump(ground_truth, file)"
   ]
  },
  {
   "cell_type": "markdown",
   "metadata": {},
   "source": [
    "# Dataset Construction\n",
    "## Extraction of context chunks"
   ]
  },
  {
   "cell_type": "code",
   "execution_count": null,
   "metadata": {},
   "outputs": [],
   "source": [
    "from neo4j import GraphDatabase\n",
    "from tqdm import tqdm\n",
    "\n",
    "URI = \"neo4j://localhost\"\n",
    "AUTH = (\"neo4j\", el.NEO4J_PWD)"
   ]
  },
  {
   "cell_type": "code",
   "execution_count": 12,
   "metadata": {},
   "outputs": [],
   "source": [
    "import pickle \n",
    "\n",
    "# Open the file in binary mode \n",
    "with open('embedded_questions.pkl', 'rb') as file: \n",
    "\tq_diz = pickle.load(file) "
   ]
  },
  {
   "cell_type": "code",
   "execution_count": null,
   "metadata": {},
   "outputs": [],
   "source": [
    "extracted_chunks_naive = {}\n",
    "\n",
    "for question, gt in tqdm(ground_truth.items()):\n",
    "    # Search for top 3 chunk\n",
    "    with GraphDatabase.driver(URI, auth=AUTH) as driver:\n",
    "        retrieved_chunks, _, _ = driver.execute_query(\n",
    "            \"\"\"CALL db.index.vector.queryNodes(\"vector\", 100, $embedding)\n",
    "                YIELD node, score\n",
    "                RETURN ID(node), node.text\n",
    "                LIMIT 3\"\"\",\n",
    "            embedding=q_diz[question]\n",
    "        )\n",
    "    top_3_chunks = [x[\"ID(node)\"] for x in retrieved_chunks]\n",
    "    context = [x[\"node.text\"] for x in retrieved_chunks]\n",
    "    extracted_chunks_naive[question] = {\n",
    "        'top_3_chunks': top_3_chunks,\n",
    "        'context': context\n",
    "    }"
   ]
  },
  {
   "cell_type": "code",
   "execution_count": 14,
   "metadata": {},
   "outputs": [],
   "source": [
    "with open('extracted_chunks_hybrid.json', 'r') as file:\n",
    "    extracted_chunks_hybrid_tot = json.load(file)"
   ]
  },
  {
   "cell_type": "code",
   "execution_count": null,
   "metadata": {},
   "outputs": [],
   "source": [
    "extracted_chunks_hybrid = {}\n",
    "\n",
    "for question, gt in ground_truth.items():\n",
    "    top_3_chunks = extracted_chunks_hybrid_tot[question]\n",
    "    # Search for top 10 chunk\n",
    "    with GraphDatabase.driver(URI, auth=AUTH) as driver:\n",
    "        retrieved_texts, _, _ = driver.execute_query(\n",
    "            \"\"\"WITH $top_3_chunks AS list\n",
    "            MATCH (a:Chunk)\n",
    "            WHERE ID(a) IN list\n",
    "            RETURN a.text\"\"\",\n",
    "            top_3_chunks=top_3_chunks\n",
    "        )\n",
    "    context = [x[\"a.text\"] for x in retrieved_texts]\n",
    "    extracted_chunks_hybrid[question] = {\n",
    "        'top_3_chunks': top_3_chunks,\n",
    "        'context': context\n",
    "    }"
   ]
  },
  {
   "cell_type": "markdown",
   "metadata": {},
   "source": [
    "## Answers extraction from retrieved context"
   ]
  },
  {
   "cell_type": "code",
   "execution_count": null,
   "metadata": {},
   "outputs": [],
   "source": [
    "from langchain_openai import AzureChatOpenAI\n",
    "\n",
    "llm = AzureChatOpenAI(\n",
    "    model=\"gpt-4o-global\",\n",
    "    azure_deployment=\"gpt-4o-global\",\n",
    "    api_key=el.OPENAI_API_KEY,\n",
    "    azure_endpoint=el.AZURE_ENDPOINT,\n",
    "    openai_api_version=\"2024-02-15-preview\",\n",
    ")"
   ]
  },
  {
   "cell_type": "code",
   "execution_count": 17,
   "metadata": {},
   "outputs": [],
   "source": [
    "cost_dict = {\n",
    "    \"gpt-4o\": {\n",
    "        \"prompt_tokens\": 2.5/1000000,\n",
    "        \"completion_tokens\": 10/1000000,\n",
    "    }\n",
    "}\n",
    "\n",
    "def compute_costs(token_usage:dict, costs:dict):\n",
    "    return token_usage[\"completion_tokens\"]*costs[\"completion_tokens\"] + token_usage[\"prompt_tokens\"]*costs[\"prompt_tokens\"]"
   ]
  },
  {
   "cell_type": "code",
   "execution_count": 18,
   "metadata": {},
   "outputs": [],
   "source": [
    "system_prompt = \"\"\"Imagine being an extractive Question Answering System.\n",
    "Respond to the user's question extracting the smallest possible slice of text from the context, without changing anything.\n",
    "If the answers are multiple, separate the extracted slices of text with a forward slash (\"/\").\n",
    "If no answer to the user's query can be found in the context, output \"ND\".\n",
    "In any case, do not add any comments to your answer.\"\"\""
   ]
  },
  {
   "cell_type": "code",
   "execution_count": 19,
   "metadata": {},
   "outputs": [
    {
     "name": "stderr",
     "output_type": "stream",
     "text": [
      "100%|██████████| 803/803 [05:52<00:00,  2.28it/s]"
     ]
    },
    {
     "name": "stdout",
     "output_type": "stream",
     "text": [
      "TOTAL COSTS: 1.4€\n"
     ]
    },
    {
     "name": "stderr",
     "output_type": "stream",
     "text": [
      "\n"
     ]
    }
   ],
   "source": [
    "tot_cost = 0\n",
    "\n",
    "for key, value in tqdm(extracted_chunks_naive.items()):\n",
    "    context = \"\\n\\n\".join(value['context'])\n",
    "    # Query the LLM\n",
    "    message = [\n",
    "        (\"system\", system_prompt),\n",
    "        (\"human\", \"QUERY:\\n\" + key + \"\\n\\nCONTEXT:\\n\" + context),\n",
    "    ]\n",
    "    response = llm.invoke(message)\n",
    "    # Compute costs\n",
    "    model_name = \"-\".join(response.response_metadata[\"model_name\"].split(\"-\")[:-3])\n",
    "    tot_cost += compute_costs(response.response_metadata[\"token_usage\"], cost_dict[model_name])\n",
    "    value['response'] = response.content\n",
    "\n",
    "print(f\"TOTAL COSTS: {round(tot_cost,3)}€\")"
   ]
  },
  {
   "cell_type": "code",
   "execution_count": 23,
   "metadata": {},
   "outputs": [
    {
     "name": "stderr",
     "output_type": "stream",
     "text": [
      "100%|██████████| 803/803 [03:04<00:00,  4.35it/s] "
     ]
    },
    {
     "name": "stdout",
     "output_type": "stream",
     "text": [
      "TOTAL COSTS: 0.764€\n"
     ]
    },
    {
     "name": "stderr",
     "output_type": "stream",
     "text": [
      "\n"
     ]
    }
   ],
   "source": [
    "tot_cost = 0\n",
    "\n",
    "for key, value in tqdm(extracted_chunks_hybrid.items()):\n",
    "    if value.get('response'):\n",
    "        continue\n",
    "    context = \"\\n\\n\".join(value['context'])\n",
    "    # Query the LLM\n",
    "    message = [\n",
    "        (\"system\", system_prompt),\n",
    "        (\"human\", \"QUERY:\\n\" + key + \"\\n\\nCONTEXT:\\n\" + context),\n",
    "    ]\n",
    "    response = llm.invoke(message)\n",
    "    # Compute costs\n",
    "    model_name = \"-\".join(response.response_metadata[\"model_name\"].split(\"-\")[:-3])\n",
    "    tot_cost += compute_costs(response.response_metadata[\"token_usage\"], cost_dict[model_name])\n",
    "    value['response'] = response.content\n",
    "\n",
    "print(f\"TOTAL COSTS: {round(tot_cost,3)}€\")"
   ]
  },
  {
   "cell_type": "code",
   "execution_count": 24,
   "metadata": {},
   "outputs": [],
   "source": [
    "with open('extracted_chunks_hybrid_full.json', 'w') as f:\n",
    "    json.dump(extracted_chunks_hybrid, f)\n",
    "\n",
    "with open('extracted_chunks_naive_full.json', 'w') as f:\n",
    "    json.dump(extracted_chunks_naive, f)"
   ]
  },
  {
   "cell_type": "code",
   "execution_count": 25,
   "metadata": {},
   "outputs": [],
   "source": [
    "with open(\"gt_full.pkl\", 'wb') as file:\n",
    "    pickle.dump(ground_truth, file)"
   ]
  },
  {
   "cell_type": "markdown",
   "metadata": {},
   "source": [
    "# Evaluation\n",
    "## Exact Match"
   ]
  },
  {
   "cell_type": "code",
   "execution_count": 26,
   "metadata": {},
   "outputs": [],
   "source": [
    "for question, gts in ground_truth.items():\n",
    "    naive_answer = extracted_chunks_naive[question]['response']\n",
    "    naive_answer = \"\".join([x.replace(\" \", \"\").lower() for x in naive_answer.split(\"/\")])\n",
    "    hybrid_answer = extracted_chunks_hybrid[question]['response']\n",
    "    hybrid_answer = \"\".join([x.replace(\" \", \"\").lower() for x in hybrid_answer.split(\"/\")])\n",
    "    formatted_gts = []\n",
    "    for gt in gts:\n",
    "        gt = \"\".join([x.replace(\" \", \"\").lower() for x in gt])\n",
    "        formatted_gts.append(gt)\n",
    "    if naive_answer in formatted_gts:\n",
    "        extracted_chunks_naive[question][\"evaluation\"] = True\n",
    "    else:\n",
    "        extracted_chunks_naive[question][\"evaluation\"] = False\n",
    "    if hybrid_answer in formatted_gts:\n",
    "        extracted_chunks_hybrid[question][\"evaluation\"] = True\n",
    "    else:\n",
    "        extracted_chunks_hybrid[question][\"evaluation\"] = False"
   ]
  },
  {
   "cell_type": "code",
   "execution_count": 31,
   "metadata": {},
   "outputs": [
    {
     "name": "stdout",
     "output_type": "stream",
     "text": [
      "Naive Evaluation: 0.355\n"
     ]
    }
   ],
   "source": [
    "correct = 0\n",
    "\n",
    "for question, values in extracted_chunks_naive.items():\n",
    "    if values['evaluation']:\n",
    "        correct += 1\n",
    "\n",
    "print(f\"Naive Evaluation: {round(correct/len(ground_truth),3)}\")"
   ]
  },
  {
   "cell_type": "code",
   "execution_count": 32,
   "metadata": {},
   "outputs": [
    {
     "name": "stdout",
     "output_type": "stream",
     "text": [
      "Hybrid Evaluation: 0.399\n"
     ]
    }
   ],
   "source": [
    "correct = 0\n",
    "\n",
    "for question, values in extracted_chunks_hybrid.items():\n",
    "    if values['evaluation']:\n",
    "        correct += 1\n",
    "\n",
    "print(f\"Hybrid Evaluation: {round(correct/len(ground_truth),3)}\")"
   ]
  },
  {
   "cell_type": "markdown",
   "metadata": {},
   "source": [
    "## ROUGE"
   ]
  },
  {
   "cell_type": "code",
   "execution_count": null,
   "metadata": {},
   "outputs": [
    {
     "name": "stderr",
     "output_type": "stream",
     "text": [
      "/Users/dgiardini002/Desktop/Tesi/env/lib/python3.10/site-packages/tqdm/auto.py:21: TqdmWarning: IProgress not found. Please update jupyter and ipywidgets. See https://ipywidgets.readthedocs.io/en/stable/user_install.html\n",
      "  from .autonotebook import tqdm as notebook_tqdm\n"
     ]
    }
   ],
   "source": [
    "from ragas import EvaluationDataset, evaluate\n",
    "from ragas.metrics import RougeScore"
   ]
  },
  {
   "cell_type": "code",
   "execution_count": null,
   "metadata": {},
   "outputs": [],
   "source": [
    "# DATASET for naive retrieval\n",
    "\n",
    "dataset = []\n",
    "\n",
    "for question, value in ground_truth.items():\n",
    "    observation = {\n",
    "        'user_input': question,\n",
    "        'retrieved_contexts': extracted_chunks_naive[question]['context'],\n",
    "        'response': extracted_chunks_naive[question]['response'],\n",
    "        'reference': \" \".join(value[0])\n",
    "    }\n",
    "    dataset.append(observation)\n",
    "eval_dataset_naive = EvaluationDataset.from_dict(dataset)\n",
    "\n",
    "# DATASET for hybrid retrieval\n",
    "dataset = []\n",
    "\n",
    "for question, value in ground_truth.items():\n",
    "    observation = {\n",
    "        'user_input': question,\n",
    "        'retrieved_contexts': extracted_chunks_hybrid[question]['context'],\n",
    "        'response': extracted_chunks_hybrid[question]['response'],\n",
    "        'reference': \" \".join(value[0])\n",
    "    }\n",
    "    dataset.append(observation)\n",
    "eval_dataset_hybrid = EvaluationDataset.from_dict(dataset)"
   ]
  },
  {
   "cell_type": "code",
   "execution_count": 39,
   "metadata": {},
   "outputs": [
    {
     "name": "stderr",
     "output_type": "stream",
     "text": [
      "Evaluating: 100%|██████████| 803/803 [00:00<00:00, 6448.76it/s]\n",
      "Evaluating: 100%|██████████| 803/803 [00:00<00:00, 6856.97it/s]\n"
     ]
    }
   ],
   "source": [
    "metrics = [\n",
    "    RougeScore()\n",
    "]\n",
    "results_naive = evaluate(dataset=eval_dataset_naive, metrics=metrics)\n",
    "results_hybrid = evaluate(dataset=eval_dataset_hybrid, metrics=metrics)"
   ]
  },
  {
   "cell_type": "code",
   "execution_count": null,
   "metadata": {},
   "outputs": [
    {
     "name": "stdout",
     "output_type": "stream",
     "text": [
      "RESULTS NAIVE RETRIEVAL: 0.4606\n",
      "RESULTS HYBRID RETRIEVAL: 0.5148\n"
     ]
    }
   ],
   "source": [
    "print(f\"RESULTS NAIVE RETRIEVAL: {results_naive['rouge_score']}\")\n",
    "print(f\"RESULTS HYBRID RETRIEVAL: {results_hybrid['rouge_score']}\")"
   ]
  },
  {
   "cell_type": "markdown",
   "metadata": {},
   "source": [
    "## Cosine Similarity"
   ]
  },
  {
   "cell_type": "code",
   "execution_count": null,
   "metadata": {},
   "outputs": [],
   "source": [
    "from ragas.metrics import SemanticSimilarity\n",
    "from ragas.embeddings import LangchainEmbeddingsWrapper\n",
    "from langchain_openai import AzureOpenAIEmbeddings\n",
    "\n",
    "evaluator_embeddings = LangchainEmbeddingsWrapper(AzureOpenAIEmbeddings(\n",
    "    openai_api_version=\"2023-03-15-preview\",\n",
    "    azure_endpoint=el.AZURE_ENDPOINT,\n",
    "    model=\"text-embedding-ada-002\",\n",
    "    api_key=el.OPENAI_API_KEY,\n",
    "))\n",
    "\n",
    "metrics = [\n",
    "    SemanticSimilarity(embeddings=evaluator_embeddings)\n",
    "]"
   ]
  },
  {
   "cell_type": "code",
   "execution_count": 43,
   "metadata": {},
   "outputs": [
    {
     "name": "stderr",
     "output_type": "stream",
     "text": [
      "Evaluating: 100%|██████████| 803/803 [01:09<00:00, 11.57it/s]\n",
      "Evaluating: 100%|██████████| 803/803 [01:11<00:00, 11.21it/s]\n"
     ]
    }
   ],
   "source": [
    "results_naive = evaluate(dataset=eval_dataset_naive, metrics=metrics)\n",
    "results_hybrid = evaluate(dataset=eval_dataset_hybrid, metrics=metrics)"
   ]
  },
  {
   "cell_type": "code",
   "execution_count": null,
   "metadata": {},
   "outputs": [
    {
     "name": "stdout",
     "output_type": "stream",
     "text": [
      "RESULTS NAIVE RETRIEVAL: 0.8907\n",
      "RESULTS HYBRID RETRIEVAL: 0.9030\n"
     ]
    }
   ],
   "source": [
    "print(f\"RESULTS NAIVE RETRIEVAL: {results_naive['semantic_similarity']}\")\n",
    "print(f\"RESULTS HYBRID RETRIEVAL: {results_hybrid['semantic_similarity']}\")"
   ]
  },
  {
   "cell_type": "markdown",
   "metadata": {},
   "source": [
    "## RAGAS Factual Correctness"
   ]
  },
  {
   "cell_type": "code",
   "execution_count": null,
   "metadata": {},
   "outputs": [],
   "source": [
    "from langchain_openai import AzureChatOpenAI\n",
    "from ragas.llms import LangchainLLMWrapper\n",
    "from ragas.metrics import FactualCorrectness\n",
    "\n",
    "evaluator_llm = LangchainLLMWrapper(AzureChatOpenAI(\n",
    "    openai_api_version=\"2024-02-15-preview\",\n",
    "    azure_endpoint=el.AZURE_ENDPOINT,\n",
    "    azure_deployment=\"gpt-4o-global\",\n",
    "    model=\"gpt-4o-global\",\n",
    "    validate_base_url=False,\n",
    "    api_key=el.OPENAI_API_KEY,\n",
    "))"
   ]
  },
  {
   "cell_type": "code",
   "execution_count": null,
   "metadata": {},
   "outputs": [],
   "source": [
    "# DATASET for naive retrieval\n",
    "dataset = []\n",
    "for question, value in ground_truth.items():\n",
    "    if question[-1] != \"?\":\n",
    "        formatted_question = question + \"?\"\n",
    "    else:\n",
    "        formatted_question = question\n",
    "    observation = {\n",
    "        'user_input': formatted_question,\n",
    "        'retrieved_contexts': extracted_chunks_naive[question]['context'],\n",
    "        'response': formatted_question + \" \" + extracted_chunks_naive[question]['response'],\n",
    "        'reference': formatted_question + \" \" + \" \".join(value[0])\n",
    "    }\n",
    "    dataset.append(observation)\n",
    "eval_dataset_naive = EvaluationDataset.from_dict(dataset)\n",
    "\n",
    "# DATASET for hybrid retrieval\n",
    "dataset = []\n",
    "for question, value in ground_truth.items():\n",
    "    if question[-1] != \"?\":\n",
    "        formatted_question = question + \"?\"\n",
    "    else:\n",
    "        formatted_question = question\n",
    "    observation = {\n",
    "        'user_input': formatted_question,\n",
    "        'retrieved_contexts': extracted_chunks_hybrid[question]['context'],\n",
    "        'response': formatted_question + \" \" + extracted_chunks_hybrid[question]['response'],\n",
    "        'reference': formatted_question + \" \" + \" \".join(value[0])\n",
    "    }\n",
    "    dataset.append(observation)\n",
    "eval_dataset_hybrid = EvaluationDataset.from_dict(dataset)"
   ]
  },
  {
   "cell_type": "code",
   "execution_count": null,
   "metadata": {},
   "outputs": [
    {
     "name": "stderr",
     "output_type": "stream",
     "text": [
      "Evaluating:   2%|▏         | 13/803 [00:06<04:39,  2.82it/s]ERROR:ragas.executor:Exception raised in Job[16]: TypeError(ufunc 'invert' not supported for the input types, and the inputs could not be safely coerced to any supported types according to the casting rule ''safe'')\n",
      "Evaluating:   9%|▉         | 76/803 [00:23<03:11,  3.79it/s]ERROR:ragas.executor:Exception raised in Job[78]: TypeError(ufunc 'invert' not supported for the input types, and the inputs could not be safely coerced to any supported types according to the casting rule ''safe'')\n",
      "Evaluating:  15%|█▍        | 119/803 [00:36<03:09,  3.61it/s]ERROR:ragas.executor:Exception raised in Job[129]: TypeError(ufunc 'invert' not supported for the input types, and the inputs could not be safely coerced to any supported types according to the casting rule ''safe'')\n",
      "Evaluating:  18%|█▊        | 142/803 [00:42<05:12,  2.12it/s]ERROR:ragas.executor:Exception raised in Job[144]: TypeError(ufunc 'invert' not supported for the input types, and the inputs could not be safely coerced to any supported types according to the casting rule ''safe'')\n",
      "Evaluating:  19%|█▉        | 155/803 [00:46<03:31,  3.06it/s]ERROR:ragas.executor:Exception raised in Job[158]: TypeError(ufunc 'invert' not supported for the input types, and the inputs could not be safely coerced to any supported types according to the casting rule ''safe'')\n",
      "Evaluating:  22%|██▏       | 175/803 [00:51<04:11,  2.50it/s]ERROR:ragas.executor:Exception raised in Job[185]: TypeError(ufunc 'invert' not supported for the input types, and the inputs could not be safely coerced to any supported types according to the casting rule ''safe'')\n",
      "ERROR:ragas.executor:Exception raised in Job[176]: TypeError(ufunc 'invert' not supported for the input types, and the inputs could not be safely coerced to any supported types according to the casting rule ''safe'')\n",
      "Evaluating:  22%|██▏       | 180/803 [00:52<02:24,  4.30it/s]ERROR:ragas.executor:Exception raised in Job[193]: TypeError(ufunc 'invert' not supported for the input types, and the inputs could not be safely coerced to any supported types according to the casting rule ''safe'')\n",
      "Evaluating:  26%|██▌       | 208/803 [01:03<05:52,  1.69it/s]ERROR:ragas.executor:Exception raised in Job[219]: TypeError(ufunc 'invert' not supported for the input types, and the inputs could not be safely coerced to any supported types according to the casting rule ''safe'')\n",
      "Evaluating:  29%|██▉       | 236/803 [01:11<02:31,  3.75it/s]ERROR:ragas.executor:Exception raised in Job[239]: TypeError(ufunc 'invert' not supported for the input types, and the inputs could not be safely coerced to any supported types according to the casting rule ''safe'')\n",
      "Evaluating:  30%|██▉       | 238/803 [01:11<01:48,  5.22it/s]ERROR:ragas.executor:Exception raised in Job[242]: TypeError(ufunc 'invert' not supported for the input types, and the inputs could not be safely coerced to any supported types according to the casting rule ''safe'')\n",
      "Evaluating:  30%|███       | 243/803 [01:12<02:56,  3.18it/s]ERROR:ragas.executor:Exception raised in Job[248]: TypeError(ufunc 'invert' not supported for the input types, and the inputs could not be safely coerced to any supported types according to the casting rule ''safe'')\n",
      "Evaluating:  31%|███       | 248/803 [01:13<01:35,  5.79it/s]ERROR:ragas.executor:Exception raised in Job[254]: TypeError(ufunc 'invert' not supported for the input types, and the inputs could not be safely coerced to any supported types according to the casting rule ''safe'')\n",
      "Evaluating:  31%|███▏      | 251/803 [01:13<01:38,  5.63it/s]ERROR:ragas.executor:Exception raised in Job[253]: TypeError(ufunc 'invert' not supported for the input types, and the inputs could not be safely coerced to any supported types according to the casting rule ''safe'')\n",
      "Evaluating:  33%|███▎      | 269/803 [01:19<02:27,  3.62it/s]ERROR:ragas.executor:Exception raised in Job[277]: TypeError(ufunc 'invert' not supported for the input types, and the inputs could not be safely coerced to any supported types according to the casting rule ''safe'')\n",
      "Evaluating:  38%|███▊      | 308/803 [01:30<01:40,  4.90it/s]ERROR:ragas.executor:Exception raised in Job[313]: TypeError(ufunc 'invert' not supported for the input types, and the inputs could not be safely coerced to any supported types according to the casting rule ''safe'')\n",
      "Evaluating:  39%|███▉      | 313/803 [01:31<02:33,  3.20it/s]ERROR:ragas.executor:Exception raised in Job[312]: TypeError(ufunc 'invert' not supported for the input types, and the inputs could not be safely coerced to any supported types according to the casting rule ''safe'')\n",
      "Evaluating:  42%|████▏     | 335/803 [01:38<02:19,  3.36it/s]ERROR:ragas.executor:Exception raised in Job[342]: TypeError(ufunc 'invert' not supported for the input types, and the inputs could not be safely coerced to any supported types according to the casting rule ''safe'')\n",
      "Evaluating:  42%|████▏     | 336/803 [01:38<02:13,  3.49it/s]ERROR:ragas.executor:Exception raised in Job[343]: TypeError(ufunc 'invert' not supported for the input types, and the inputs could not be safely coerced to any supported types according to the casting rule ''safe'')\n",
      "Evaluating:  42%|████▏     | 338/803 [01:39<02:02,  3.81it/s]ERROR:ragas.executor:Exception raised in Job[345]: TypeError(ufunc 'invert' not supported for the input types, and the inputs could not be safely coerced to any supported types according to the casting rule ''safe'')\n",
      "Evaluating:  48%|████▊     | 385/803 [01:52<02:21,  2.95it/s]ERROR:ragas.executor:Exception raised in Job[394]: TypeError(ufunc 'invert' not supported for the input types, and the inputs could not be safely coerced to any supported types according to the casting rule ''safe'')\n",
      "Evaluating:  49%|████▊     | 391/803 [01:53<01:21,  5.06it/s]ERROR:ragas.executor:Exception raised in Job[396]: TypeError(ufunc 'invert' not supported for the input types, and the inputs could not be safely coerced to any supported types according to the casting rule ''safe'')\n",
      "Evaluating:  52%|█████▏    | 418/803 [02:03<02:25,  2.65it/s]ERROR:ragas.executor:Exception raised in Job[427]: TypeError(ufunc 'invert' not supported for the input types, and the inputs could not be safely coerced to any supported types according to the casting rule ''safe'')\n",
      "Evaluating:  53%|█████▎    | 425/803 [02:05<02:04,  3.03it/s]ERROR:ragas.executor:Exception raised in Job[432]: TypeError(ufunc 'invert' not supported for the input types, and the inputs could not be safely coerced to any supported types according to the casting rule ''safe'')\n",
      "Evaluating:  55%|█████▌    | 442/803 [02:10<02:21,  2.56it/s]ERROR:ragas.executor:Exception raised in Job[444]: TypeError(ufunc 'invert' not supported for the input types, and the inputs could not be safely coerced to any supported types according to the casting rule ''safe'')\n",
      "Evaluating:  56%|█████▌    | 448/803 [02:12<01:09,  5.08it/s]ERROR:ragas.executor:Exception raised in Job[451]: TypeError(ufunc 'invert' not supported for the input types, and the inputs could not be safely coerced to any supported types according to the casting rule ''safe'')\n",
      "Evaluating:  58%|█████▊    | 469/803 [02:18<01:33,  3.57it/s]ERROR:ragas.executor:Exception raised in Job[476]: TypeError(ufunc 'invert' not supported for the input types, and the inputs could not be safely coerced to any supported types according to the casting rule ''safe'')\n",
      "Evaluating:  64%|██████▍   | 517/803 [02:32<01:18,  3.66it/s]ERROR:ragas.executor:Exception raised in Job[525]: TypeError(ufunc 'invert' not supported for the input types, and the inputs could not be safely coerced to any supported types according to the casting rule ''safe'')\n",
      "Evaluating:  67%|██████▋   | 540/803 [02:38<00:53,  4.93it/s]ERROR:ragas.executor:Exception raised in Job[546]: TypeError(ufunc 'invert' not supported for the input types, and the inputs could not be safely coerced to any supported types according to the casting rule ''safe'')\n",
      "Evaluating:  68%|██████▊   | 547/803 [02:40<01:16,  3.33it/s]ERROR:ragas.executor:Exception raised in Job[553]: TypeError(ufunc 'invert' not supported for the input types, and the inputs could not be safely coerced to any supported types according to the casting rule ''safe'')\n",
      "Evaluating:  72%|███████▏  | 576/803 [02:49<00:55,  4.08it/s]ERROR:ragas.executor:Exception raised in Job[584]: TypeError(ufunc 'invert' not supported for the input types, and the inputs could not be safely coerced to any supported types according to the casting rule ''safe'')\n",
      "Evaluating:  73%|███████▎  | 586/803 [02:52<01:12,  2.97it/s]ERROR:ragas.executor:Exception raised in Job[593]: TypeError(ufunc 'invert' not supported for the input types, and the inputs could not be safely coerced to any supported types according to the casting rule ''safe'')\n",
      "Evaluating:  74%|███████▍  | 596/803 [02:54<00:45,  4.54it/s]ERROR:ragas.executor:Exception raised in Job[602]: TypeError(ufunc 'invert' not supported for the input types, and the inputs could not be safely coerced to any supported types according to the casting rule ''safe'')\n",
      "Evaluating:  75%|███████▍  | 600/803 [02:56<01:19,  2.56it/s]ERROR:ragas.executor:Exception raised in Job[608]: TypeError(ufunc 'invert' not supported for the input types, and the inputs could not be safely coerced to any supported types according to the casting rule ''safe'')\n",
      "Evaluating:  78%|███████▊  | 629/803 [03:04<00:56,  3.09it/s]ERROR:ragas.executor:Exception raised in Job[634]: TypeError(ufunc 'invert' not supported for the input types, and the inputs could not be safely coerced to any supported types according to the casting rule ''safe'')\n",
      "Evaluating:  79%|███████▉  | 633/803 [03:05<00:57,  2.98it/s]ERROR:ragas.executor:Exception raised in Job[640]: TypeError(ufunc 'invert' not supported for the input types, and the inputs could not be safely coerced to any supported types according to the casting rule ''safe'')\n",
      "Evaluating:  80%|███████▉  | 640/803 [03:07<00:51,  3.19it/s]ERROR:ragas.executor:Exception raised in Job[643]: TypeError(ufunc 'invert' not supported for the input types, and the inputs could not be safely coerced to any supported types according to the casting rule ''safe'')\n",
      "Evaluating:  84%|████████▍ | 676/803 [03:17<00:32,  3.95it/s]ERROR:ragas.executor:Exception raised in Job[682]: TypeError(ufunc 'invert' not supported for the input types, and the inputs could not be safely coerced to any supported types according to the casting rule ''safe'')\n",
      "Evaluating:  87%|████████▋ | 701/803 [03:25<00:36,  2.78it/s]ERROR:ragas.executor:Exception raised in Job[710]: TypeError(ufunc 'invert' not supported for the input types, and the inputs could not be safely coerced to any supported types according to the casting rule ''safe'')\n",
      "Evaluating:  92%|█████████▏| 739/803 [03:36<00:26,  2.45it/s]ERROR:ragas.executor:Exception raised in Job[747]: TypeError(ufunc 'invert' not supported for the input types, and the inputs could not be safely coerced to any supported types according to the casting rule ''safe'')\n",
      "Evaluating:  94%|█████████▎| 751/803 [03:40<00:18,  2.74it/s]ERROR:ragas.executor:Exception raised in Job[750]: TypeError(ufunc 'invert' not supported for the input types, and the inputs could not be safely coerced to any supported types according to the casting rule ''safe'')\n",
      "Evaluating:  97%|█████████▋| 781/803 [03:49<00:07,  2.84it/s]ERROR:ragas.executor:Exception raised in Job[789]: TypeError(ufunc 'invert' not supported for the input types, and the inputs could not be safely coerced to any supported types according to the casting rule ''safe'')\n",
      "Evaluating:  99%|█████████▉| 793/803 [03:52<00:02,  4.32it/s]ERROR:ragas.executor:Exception raised in Job[801]: TypeError(ufunc 'invert' not supported for the input types, and the inputs could not be safely coerced to any supported types according to the casting rule ''safe'')\n",
      "Evaluating: 100%|█████████▉| 802/803 [04:02<00:01,  1.32s/it]ERROR:ragas.executor:Exception raised in Job[497]: TimeoutError()\n",
      "Evaluating: 100%|██████████| 803/803 [05:21<00:00,  2.50it/s]\n",
      "Evaluating:   0%|          | 0/803 [00:00<?, ?it/s]ERROR:ragas.executor:Exception raised in Job[7]: TypeError(ufunc 'invert' not supported for the input types, and the inputs could not be safely coerced to any supported types according to the casting rule ''safe'')\n",
      "Evaluating:   2%|▏         | 16/803 [00:06<03:22,  3.90it/s]ERROR:ragas.executor:Exception raised in Job[22]: TypeError(ufunc 'invert' not supported for the input types, and the inputs could not be safely coerced to any supported types according to the casting rule ''safe'')\n",
      "Evaluating:   4%|▍         | 36/803 [00:11<02:20,  5.46it/s]ERROR:ragas.executor:Exception raised in Job[42]: TypeError(ufunc 'invert' not supported for the input types, and the inputs could not be safely coerced to any supported types according to the casting rule ''safe'')\n",
      "Evaluating:   7%|▋         | 54/803 [00:17<03:50,  3.25it/s]ERROR:ragas.executor:Exception raised in Job[62]: TypeError(ufunc 'invert' not supported for the input types, and the inputs could not be safely coerced to any supported types according to the casting rule ''safe'')\n",
      "Evaluating:  12%|█▏        | 98/803 [00:30<02:17,  5.12it/s]ERROR:ragas.executor:Exception raised in Job[102]: TypeError(ufunc 'invert' not supported for the input types, and the inputs could not be safely coerced to any supported types according to the casting rule ''safe'')\n",
      "Evaluating:  19%|█▉        | 151/803 [00:45<02:24,  4.51it/s]ERROR:ragas.executor:Exception raised in Job[158]: TypeError(ufunc 'invert' not supported for the input types, and the inputs could not be safely coerced to any supported types according to the casting rule ''safe'')\n",
      "Evaluating:  20%|██        | 162/803 [00:49<02:25,  4.39it/s]ERROR:ragas.executor:Exception raised in Job[168]: TypeError(ufunc 'invert' not supported for the input types, and the inputs could not be safely coerced to any supported types according to the casting rule ''safe'')\n",
      "Evaluating:  22%|██▏       | 175/803 [00:52<02:47,  3.75it/s]ERROR:ragas.executor:Exception raised in Job[176]: TypeError(ufunc 'invert' not supported for the input types, and the inputs could not be safely coerced to any supported types according to the casting rule ''safe'')\n",
      "Evaluating:  25%|██▌       | 202/803 [01:00<02:47,  3.59it/s]ERROR:ragas.executor:Exception raised in Job[209]: TypeError(ufunc 'invert' not supported for the input types, and the inputs could not be safely coerced to any supported types according to the casting rule ''safe'')\n",
      "Evaluating:  29%|██▉       | 232/803 [01:11<02:46,  3.42it/s]ERROR:ragas.executor:Exception raised in Job[238]: TypeError(ufunc 'invert' not supported for the input types, and the inputs could not be safely coerced to any supported types according to the casting rule ''safe'')\n",
      "Evaluating:  31%|███       | 250/803 [01:17<02:20,  3.94it/s]ERROR:ragas.executor:Exception raised in Job[253]: TypeError(ufunc 'invert' not supported for the input types, and the inputs could not be safely coerced to any supported types according to the casting rule ''safe'')\n",
      "Evaluating:  35%|███▍      | 281/803 [01:26<03:28,  2.50it/s]ERROR:ragas.executor:Exception raised in Job[288]: TypeError(ufunc 'invert' not supported for the input types, and the inputs could not be safely coerced to any supported types according to the casting rule ''safe'')\n",
      "Evaluating:  37%|███▋      | 301/803 [01:32<02:19,  3.59it/s]ERROR:ragas.executor:Exception raised in Job[307]: TypeError(ufunc 'invert' not supported for the input types, and the inputs could not be safely coerced to any supported types according to the casting rule ''safe'')\n",
      "Evaluating:  39%|███▉      | 313/803 [01:36<03:06,  2.63it/s]ERROR:ragas.executor:Exception raised in Job[316]: TypeError(ufunc 'invert' not supported for the input types, and the inputs could not be safely coerced to any supported types according to the casting rule ''safe'')\n",
      "Evaluating:  40%|████      | 323/803 [01:39<03:08,  2.54it/s]ERROR:ragas.executor:Exception raised in Job[329]: TypeError(ufunc 'invert' not supported for the input types, and the inputs could not be safely coerced to any supported types according to the casting rule ''safe'')\n",
      "Evaluating:  42%|████▏     | 335/803 [01:43<02:35,  3.00it/s]ERROR:ragas.executor:Exception raised in Job[343]: TypeError(ufunc 'invert' not supported for the input types, and the inputs could not be safely coerced to any supported types according to the casting rule ''safe'')\n",
      "Evaluating:  42%|████▏     | 336/803 [01:43<02:43,  2.85it/s]ERROR:ragas.executor:Exception raised in Job[342]: TypeError(ufunc 'invert' not supported for the input types, and the inputs could not be safely coerced to any supported types according to the casting rule ''safe'')\n",
      "Evaluating:  42%|████▏     | 339/803 [01:44<02:02,  3.77it/s]ERROR:ragas.executor:Exception raised in Job[345]: TypeError(ufunc 'invert' not supported for the input types, and the inputs could not be safely coerced to any supported types according to the casting rule ''safe'')\n",
      "Evaluating:  44%|████▍     | 353/803 [01:48<02:32,  2.95it/s]ERROR:ragas.executor:Exception raised in Job[363]: TypeError(ufunc 'invert' not supported for the input types, and the inputs could not be safely coerced to any supported types according to the casting rule ''safe'')\n",
      "Evaluating:  48%|████▊     | 385/803 [01:57<01:44,  4.01it/s]ERROR:ragas.executor:Exception raised in Job[394]: TypeError(ufunc 'invert' not supported for the input types, and the inputs could not be safely coerced to any supported types according to the casting rule ''safe'')\n",
      "Evaluating:  48%|████▊     | 388/803 [01:59<02:50,  2.43it/s]ERROR:ragas.executor:Exception raised in Job[396]: TypeError(ufunc 'invert' not supported for the input types, and the inputs could not be safely coerced to any supported types according to the casting rule ''safe'')\n",
      "Evaluating:  51%|█████     | 407/803 [02:03<01:30,  4.40it/s]ERROR:ragas.executor:Exception raised in Job[407]: TypeError(ufunc 'invert' not supported for the input types, and the inputs could not be safely coerced to any supported types according to the casting rule ''safe'')\n",
      "Evaluating:  51%|█████     | 411/803 [02:04<01:44,  3.76it/s]ERROR:ragas.executor:Exception raised in Job[417]: TypeError(ufunc 'invert' not supported for the input types, and the inputs could not be safely coerced to any supported types according to the casting rule ''safe'')\n",
      "Evaluating:  52%|█████▏    | 417/803 [02:07<02:06,  3.05it/s]ERROR:ragas.executor:Exception raised in Job[427]: TypeError(ufunc 'invert' not supported for the input types, and the inputs could not be safely coerced to any supported types according to the casting rule ''safe'')\n",
      "Evaluating:  55%|█████▍    | 439/803 [02:14<02:07,  2.86it/s]ERROR:ragas.executor:Exception raised in Job[443]: TypeError(ufunc 'invert' not supported for the input types, and the inputs could not be safely coerced to any supported types according to the casting rule ''safe'')\n",
      "Evaluating:  57%|█████▋    | 458/803 [02:19<01:35,  3.60it/s]ERROR:ragas.executor:Exception raised in Job[460]: TypeError(ufunc 'invert' not supported for the input types, and the inputs could not be safely coerced to any supported types according to the casting rule ''safe'')\n",
      "Evaluating:  57%|█████▋    | 461/803 [02:21<02:06,  2.71it/s]ERROR:ragas.executor:Exception raised in Job[468]: TypeError(ufunc 'invert' not supported for the input types, and the inputs could not be safely coerced to any supported types according to the casting rule ''safe'')\n",
      "Evaluating:  60%|██████    | 483/803 [02:26<00:57,  5.61it/s]ERROR:ragas.executor:Exception raised in Job[486]: TypeError(ufunc 'invert' not supported for the input types, and the inputs could not be safely coerced to any supported types according to the casting rule ''safe'')\n",
      "Evaluating:  63%|██████▎   | 506/803 [02:32<01:22,  3.60it/s]ERROR:ragas.executor:Exception raised in Job[509]: TypeError(ufunc 'invert' not supported for the input types, and the inputs could not be safely coerced to any supported types according to the casting rule ''safe'')\n",
      "Evaluating:  69%|██████▊   | 552/803 [02:44<01:04,  3.91it/s]ERROR:ragas.executor:Exception raised in Job[558]: TypeError(ufunc 'invert' not supported for the input types, and the inputs could not be safely coerced to any supported types according to the casting rule ''safe'')\n",
      "Evaluating:  73%|███████▎  | 585/803 [02:54<01:16,  2.85it/s]ERROR:ragas.executor:Exception raised in Job[593]: TypeError(ufunc 'invert' not supported for the input types, and the inputs could not be safely coerced to any supported types according to the casting rule ''safe'')\n",
      "Evaluating:  74%|███████▍  | 595/803 [02:56<00:44,  4.66it/s]ERROR:ragas.executor:Exception raised in Job[601]: TypeError(ufunc 'invert' not supported for the input types, and the inputs could not be safely coerced to any supported types according to the casting rule ''safe'')\n",
      "Evaluating:  74%|███████▍  | 596/803 [02:56<00:56,  3.68it/s]ERROR:ragas.executor:Exception raised in Job[602]: TypeError(ufunc 'invert' not supported for the input types, and the inputs could not be safely coerced to any supported types according to the casting rule ''safe'')\n",
      "Evaluating:  75%|███████▍  | 600/803 [02:57<00:46,  4.38it/s]ERROR:ragas.executor:Exception raised in Job[604]: TypeError(ufunc 'invert' not supported for the input types, and the inputs could not be safely coerced to any supported types according to the casting rule ''safe'')\n",
      "Evaluating:  75%|███████▌  | 605/803 [02:59<01:29,  2.21it/s]ERROR:ragas.executor:Exception raised in Job[613]: TypeError(ufunc 'invert' not supported for the input types, and the inputs could not be safely coerced to any supported types according to the casting rule ''safe'')\n",
      "Evaluating:  79%|███████▊  | 631/803 [03:06<01:00,  2.84it/s]ERROR:ragas.executor:Exception raised in Job[634]: TypeError(ufunc 'invert' not supported for the input types, and the inputs could not be safely coerced to any supported types according to the casting rule ''safe'')\n",
      "Evaluating:  84%|████████▎ | 672/803 [03:18<00:31,  4.14it/s]ERROR:ragas.executor:Exception raised in Job[676]: TypeError(ufunc 'invert' not supported for the input types, and the inputs could not be safely coerced to any supported types according to the casting rule ''safe'')\n",
      "Evaluating:  87%|████████▋ | 700/803 [03:27<00:22,  4.54it/s]ERROR:ragas.executor:Exception raised in Job[703]: TypeError(ufunc 'invert' not supported for the input types, and the inputs could not be safely coerced to any supported types according to the casting rule ''safe'')\n",
      "Evaluating:  92%|█████████▏| 738/803 [03:39<00:18,  3.57it/s]ERROR:ragas.executor:Exception raised in Job[747]: TypeError(ufunc 'invert' not supported for the input types, and the inputs could not be safely coerced to any supported types according to the casting rule ''safe'')\n",
      "Evaluating:  95%|█████████▍| 761/803 [03:45<00:09,  4.52it/s]ERROR:ragas.executor:Exception raised in Job[768]: TypeError(ufunc 'invert' not supported for the input types, and the inputs could not be safely coerced to any supported types according to the casting rule ''safe'')\n",
      "Evaluating: 100%|██████████| 803/803 [04:10<00:00,  3.20it/s]\n"
     ]
    }
   ],
   "source": [
    "metrics = [\n",
    "    FactualCorrectness(llm=evaluator_llm),\n",
    "]\n",
    "\n",
    "results_naive = evaluate(dataset=eval_dataset_naive, metrics=metrics)\n",
    "results_hybrid = evaluate(dataset=eval_dataset_hybrid, metrics=metrics)"
   ]
  },
  {
   "cell_type": "code",
   "execution_count": null,
   "metadata": {},
   "outputs": [
    {
     "name": "stdout",
     "output_type": "stream",
     "text": [
      "RESULTS NAIVE RETRIEVAL: 0.6356\n",
      "RESULTS HYBRID RETRIEVAL: 0.6722\n"
     ]
    }
   ],
   "source": [
    "print(f\"RESULTS NAIVE RETRIEVAL: {results_naive['factual_correctness']}\")\n",
    "print(f\"RESULTS HYBRID RETRIEVAL: {results_hybrid['factual_correctness']}\")"
   ]
  }
 ],
 "metadata": {
  "kernelspec": {
   "display_name": "env",
   "language": "python",
   "name": "python3"
  },
  "language_info": {
   "codemirror_mode": {
    "name": "ipython",
    "version": 3
   },
   "file_extension": ".py",
   "mimetype": "text/x-python",
   "name": "python",
   "nbconvert_exporter": "python",
   "pygments_lexer": "ipython3",
   "version": "3.12.3"
  }
 },
 "nbformat": 4,
 "nbformat_minor": 2
}
