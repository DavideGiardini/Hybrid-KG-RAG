{
 "cells": [
  {
   "cell_type": "markdown",
   "metadata": {},
   "source": [
    "This notebook was built to create the \"HybridRAG\" baseline described in section 4.2 of the Master Thesis."
   ]
  },
  {
   "cell_type": "code",
   "execution_count": null,
   "metadata": {},
   "outputs": [],
   "source": [
    "import pickle, json\n",
    "from neo4j import GraphDatabase\n",
    "import config.EnvLoader as el\n",
    "\n",
    "URI = \"neo4j://localhost\"\n",
    "AUTH = (\"neo4j\", el.NEO4J_PWD)\n",
    "\n",
    "# Open the file in binary mode \n",
    "with open('embedded_questions.pkl', 'rb') as file: \n",
    "\tq_diz = pickle.load(file)\n",
    "\n",
    "with open('Dataset.json') as f:\n",
    "    ds = json.load(f)"
   ]
  },
  {
   "cell_type": "code",
   "execution_count": null,
   "metadata": {},
   "outputs": [],
   "source": [
    "results = {}\n",
    "for obs in ds:\n",
    "    # Extract chunks from graph traverser\n",
    "    found_chunks = []\n",
    "    for key, value in obs[\"observations\"].items():\n",
    "        if value.get(\"graph_traverser\", 0) == 1:\n",
    "            found_chunks.append(key)\n",
    "    found_chunks = [int(x) for x in found_chunks]\n",
    "    # Se il graph traverser ne ha trovati più di 3, prendiamo solo quelli con similarity più alta\n",
    "    if len(found_chunks) > 3:\n",
    "        with GraphDatabase.driver(URI, auth=AUTH) as driver:\n",
    "            retrieved_chunks, _, _ = driver.execute_query(\n",
    "                \"\"\"WITH $int_keys AS list\n",
    "                CALL db.index.vector.queryNodes(\"vector\", 1000, $embedding)\n",
    "                YIELD node, score\n",
    "                WHERE ID(node) IN list\n",
    "                RETURN ID(node), score\n",
    "                ORDER BY score DESC\n",
    "                LIMIT 3\"\"\",\n",
    "                int_keys=found_chunks, embedding=obs[\"embedding\"]\n",
    "            )\n",
    "        found_chunks = [x[\"ID(node)\"] for x in retrieved_chunks]\n",
    "    # Estrae i chunk mancanti, senza riprendere quelli già estratti\n",
    "    with GraphDatabase.driver(URI, auth=AUTH) as driver:\n",
    "            retrieved_chunks, _, _ = driver.execute_query(\n",
    "                \"\"\"WITH $int_keys AS list\n",
    "                CALL db.index.vector.queryNodes(\"vector\", 100, $embedding)\n",
    "                YIELD node, score\n",
    "                WHERE NOT ID(node) IN list\n",
    "                RETURN ID(node), score\n",
    "                ORDER BY score DESC\n",
    "                LIMIT $n\"\"\",\n",
    "                int_keys=found_chunks, embedding=obs[\"embedding\"], n = 5 - len(found_chunks)\n",
    "            )\n",
    "    found_chunks += [x[\"ID(node)\"] for x in retrieved_chunks]\n",
    "    results[obs[\"question\"]] = found_chunks"
   ]
  },
  {
   "cell_type": "code",
   "execution_count": 80,
   "metadata": {},
   "outputs": [
    {
     "data": {
      "text/plain": [
       "5"
      ]
     },
     "execution_count": 80,
     "metadata": {},
     "output_type": "execute_result"
    }
   ],
   "source": [
    "max([len(v) for k,v in results.items()])"
   ]
  },
  {
   "cell_type": "code",
   "execution_count": 81,
   "metadata": {},
   "outputs": [],
   "source": [
    "with open('concatenated_results.json', 'w') as f:\n",
    "    json.dump(results, f)"
   ]
  },
  {
   "cell_type": "code",
   "execution_count": null,
   "metadata": {},
   "outputs": [],
   "source": [
    "precision_lst = []\n",
    "recall_lst = []\n",
    "detection_lst = []\n",
    "\n",
    "for q, retrieved_chunks in results.items():\n",
    "    # Get max answers\n",
    "    with GraphDatabase.driver(URI, auth=AUTH) as driver:\n",
    "        answers, _, _ = driver.execute_query(\n",
    "            \"\"\"MATCH (a:Chunk {is_answer_of: $q})\n",
    "            RETURN ID(a)\"\"\",\n",
    "            q=q\n",
    "        )\n",
    "    max_answers = len(answers)\n",
    "    retrieved_answers = len([x for x in answers if x[\"ID(a)\"] in retrieved_chunks])\n",
    "    precision_lst.append(retrieved_answers/5)\n",
    "    recall_lst.append(retrieved_answers/max_answers)\n",
    "    detection_lst.append(1 if retrieved_answers > 0 else 0)"
   ]
  },
  {
   "cell_type": "code",
   "execution_count": 85,
   "metadata": {},
   "outputs": [
    {
     "name": "stdout",
     "output_type": "stream",
     "text": [
      "Average Precision: 0.188\n",
      "Average Recall: 0.695\n",
      "Average Detection: 0.776\n"
     ]
    }
   ],
   "source": [
    "length = len(results)\n",
    "print(f\"Average Precision: {round(sum(precision_lst)/length,3)}\")\n",
    "print(f\"Average Recall: {round(sum(recall_lst)/length,3)}\")\n",
    "print(f\"Average Detection: {round(sum(detection_lst)/length,3)}\")"
   ]
  },
  {
   "cell_type": "markdown",
   "metadata": {},
   "source": [
    "## MultiHop dataset"
   ]
  },
  {
   "cell_type": "code",
   "execution_count": 91,
   "metadata": {},
   "outputs": [],
   "source": [
    "import json\n",
    "\n",
    "with open('Dataset_multihop.json') as f:\n",
    "    ds = json.load(f)"
   ]
  },
  {
   "cell_type": "code",
   "execution_count": 96,
   "metadata": {},
   "outputs": [],
   "source": [
    "def compute_results(param):\n",
    "    n_chunks = int(param/2)\n",
    "    results = {}\n",
    "    for obs in ds:\n",
    "        found_chunks = []\n",
    "        # Extract chunks from graph traverser\n",
    "        for key, value in obs[\"observations\"].items():\n",
    "            if value.get(\"graph_traverser\", 0) == 1:\n",
    "                found_chunks.append(key)\n",
    "        found_chunks = [int(x) for x in found_chunks]\n",
    "        # Se il graph traverser ne ha trovati più di 3, prendiamo solo quelli con similarity più alta\n",
    "        if len(found_chunks) > 3:\n",
    "            with GraphDatabase.driver(URI, auth=AUTH) as driver:\n",
    "                retrieved_chunks, _, _ = driver.execute_query(\n",
    "                    \"\"\"WITH $int_keys AS list\n",
    "                    CALL db.index.vector.queryNodes(\"vector\", 1000, $embedding)\n",
    "                    YIELD node, score\n",
    "                    WHERE ID(node) IN list\n",
    "                    RETURN ID(node), score\n",
    "                    ORDER BY score DESC\n",
    "                    LIMIT $limit\"\"\",\n",
    "                    int_keys=found_chunks, embedding=obs[\"embedding\"], limit = n_chunks\n",
    "                )\n",
    "            found_chunks = [x[\"ID(node)\"] for x in retrieved_chunks]\n",
    "        # Estrae i chunk mancanti, senza riprendere quelli già estratti\n",
    "        with GraphDatabase.driver(URI, auth=AUTH) as driver:\n",
    "                retrieved_chunks, _, _ = driver.execute_query(\n",
    "                    \"\"\"WITH $int_keys AS list\n",
    "                    CALL db.index.vector.queryNodes(\"vector\", 100, $embedding)\n",
    "                    YIELD node, score\n",
    "                    WHERE NOT ID(node) IN list\n",
    "                    RETURN ID(node), score\n",
    "                    ORDER BY score DESC\n",
    "                    LIMIT $n\"\"\",\n",
    "                    int_keys=found_chunks, embedding=obs[\"embedding\"], n = param - len(found_chunks)\n",
    "                )\n",
    "        found_chunks += [x[\"ID(node)\"] for x in retrieved_chunks]\n",
    "        results[obs[\"question\"]] = found_chunks\n",
    "    return results"
   ]
  },
  {
   "cell_type": "code",
   "execution_count": null,
   "metadata": {},
   "outputs": [],
   "source": [
    "final_results = {}\n",
    "for x in [4,6,8]:\n",
    "    results = compute_results(x)\n",
    "    precision_lst = []\n",
    "    recall_lst = []\n",
    "    detection_lst = []\n",
    "\n",
    "    for obs in ds:\n",
    "        retrieved_chunks = results[obs[\"question\"]]\n",
    "        # Get max answers\n",
    "        answers = [int(k) for k, v in obs[\"observations\"].items() if v.get(\"is_answer\", 0) == 1]\n",
    "        max_answers = len(answers)\n",
    "        retrieved_answers = len([x for x in answers if x in retrieved_chunks])\n",
    "        precision_lst.append(retrieved_answers/6)\n",
    "        recall_lst.append(retrieved_answers/max_answers)\n",
    "        detection_lst.append(1 if retrieved_answers == max_answers else 0)\n",
    "    length = len(results)\n",
    "    final_results[x] = [round(sum(precision_lst)/length,3), round(sum(recall_lst)/length,3), round(sum(detection_lst)/length,3)]"
   ]
  },
  {
   "cell_type": "code",
   "execution_count": 99,
   "metadata": {},
   "outputs": [
    {
     "name": "stdout",
     "output_type": "stream",
     "text": [
      "Results for 4 chunks.\n",
      "Average Precision: 0.125\n",
      "Average Recall: 0.381\n",
      "Average Detection: 0.11\n",
      "\n",
      "Results for 6 chunks.\n",
      "Average Precision: 0.143\n",
      "Average Recall: 0.432\n",
      "Average Detection: 0.17\n",
      "\n",
      "Results for 8 chunks.\n",
      "Average Precision: 0.155\n",
      "Average Recall: 0.467\n",
      "Average Detection: 0.2\n",
      "\n"
     ]
    }
   ],
   "source": [
    "for x in [4,6,8]:\n",
    "    print(f\"Results for {str(x)} chunks.\")\n",
    "    print(f\"Average Precision: {final_results[x][0]}\")\n",
    "    print(f\"Average Recall: {final_results[x][1]}\")\n",
    "    print(f\"Average Detection: {final_results[x][2]}\")\n",
    "    print(\"\")"
   ]
  }
 ],
 "metadata": {
  "kernelspec": {
   "display_name": "env",
   "language": "python",
   "name": "python3"
  },
  "language_info": {
   "codemirror_mode": {
    "name": "ipython",
    "version": 3
   },
   "file_extension": ".py",
   "mimetype": "text/x-python",
   "name": "python",
   "nbconvert_exporter": "python",
   "pygments_lexer": "ipython3",
   "version": "3.10.10"
  }
 },
 "nbformat": 4,
 "nbformat_minor": 2
}
