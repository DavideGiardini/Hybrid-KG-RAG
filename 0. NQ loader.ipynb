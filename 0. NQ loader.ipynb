{
 "cells": [
  {
   "cell_type": "markdown",
   "metadata": {},
   "source": [
    "This is the code with which the \"NQ dev ds with answers\" has been generated."
   ]
  },
  {
   "cell_type": "code",
   "execution_count": 2,
   "metadata": {},
   "outputs": [],
   "source": [
    "resetDb()"
   ]
  },
  {
   "cell_type": "markdown",
   "metadata": {},
   "source": [
    "# Wikipedia Parser\n",
    "Parse and structures the NQ-dev dataset Wikipedia pages to create the graph that will be used as the KB of the experiment."
   ]
  },
  {
   "cell_type": "code",
   "execution_count": null,
   "metadata": {},
   "outputs": [],
   "source": [
    "from utils.wikipediaParser import *\n",
    "import io\n",
    "from tqdm import tqdm\n",
    "import pandas as pd\n",
    "import config.EnvLoader as el"
   ]
  },
  {
   "cell_type": "code",
   "execution_count": 2,
   "metadata": {},
   "outputs": [],
   "source": [
    "resetCsv()"
   ]
  },
  {
   "cell_type": "code",
   "execution_count": 3,
   "metadata": {},
   "outputs": [
    {
     "name": "stderr",
     "output_type": "stream",
     "text": [
      "0it [00:00, ?it/s]"
     ]
    },
    {
     "name": "stderr",
     "output_type": "stream",
     "text": [
      "7830it [08:04, 16.17it/s]\n"
     ]
    }
   ],
   "source": [
    "parsed_urls = []\n",
    "parsed_titles = []\n",
    "no_answer = []\n",
    "\n",
    "\n",
    "with open(\"v1.0-simplified_nq-dev-all.jsonl\") as file:\n",
    "    for line in tqdm(file):\n",
    "        line = io.StringIO(line)\n",
    "        jsonObj = pd.read_json(path_or_buf=line, lines=True)\n",
    "        # If the document has already been parsed, skip\n",
    "        if jsonObj['document_url'][0] in parsed_urls or jsonObj['document_title'][0] in parsed_titles:\n",
    "            continue\n",
    "        # If the document does not have an answer, skip\n",
    "        ann_lst = [ann['long_answer']['start_byte'] for ann in jsonObj['annotations'][0]]\n",
    "        if len(set(ann_lst)) == 1 and ann_lst[0] == -1:\n",
    "            no_answer.append(jsonObj[\"question_text\"][0])\n",
    "            continue\n",
    "        parse(jsonObj.iloc[0])\n",
    "        parsed_urls.append(jsonObj[\"document_url\"][0])\n",
    "        parsed_titles.append(jsonObj[\"document_title\"][0])"
   ]
  },
  {
   "cell_type": "code",
   "execution_count": 4,
   "metadata": {},
   "outputs": [
    {
     "data": {
      "text/plain": [
       "2202"
      ]
     },
     "execution_count": 4,
     "metadata": {},
     "output_type": "execute_result"
    }
   ],
   "source": [
    "len(no_answer)"
   ]
  },
  {
   "cell_type": "markdown",
   "metadata": {},
   "source": [
    "Move csvs into db's import folder"
   ]
  },
  {
   "cell_type": "code",
   "execution_count": 3,
   "metadata": {},
   "outputs": [
    {
     "name": "stdout",
     "output_type": "stream",
     "text": [
      "Creating Constrain 1/4\n",
      "Creating Constrain 2/4\n",
      "Creating Contrain 3/4\n",
      "Creating Contrain 4/4\n"
     ]
    }
   ],
   "source": [
    "createConstrains()"
   ]
  },
  {
   "cell_type": "code",
   "execution_count": 4,
   "metadata": {},
   "outputs": [
    {
     "name": "stdout",
     "output_type": "stream",
     "text": [
      "Creating :Page nodes\n",
      "Creating :SubChapter nodes\n",
      "Creating :Chunk nodes\n",
      "Linking subchapters\n",
      "Linking chunks\n",
      "Linking main pages\n",
      "Linking cited pages\n",
      "Creating previous and next relationships\n",
      "Linking Pages to all chunks\n",
      "Linking SubChapters to all chunks\n",
      "Creating OriginalPage label 1/2\n",
      "Creating OriginalPage label 2/2\n"
     ]
    }
   ],
   "source": [
    "query_lst = neo4jExecutor()"
   ]
  },
  {
   "cell_type": "code",
   "execution_count": 5,
   "metadata": {},
   "outputs": [
    {
     "name": "stderr",
     "output_type": "stream",
     "text": [
      "100%|██████████| 4897/4897 [00:58<00:00, 83.57it/s] \n"
     ]
    }
   ],
   "source": [
    "linkChunks()"
   ]
  },
  {
   "cell_type": "markdown",
   "metadata": {},
   "source": [
    "Move to DBpedia DMBS and run"
   ]
  },
  {
   "cell_type": "code",
   "execution_count": 11,
   "metadata": {},
   "outputs": [
    {
     "name": "stdout",
     "output_type": "stream",
     "text": [
      "found 349502 DBpedia labels\n"
     ]
    }
   ],
   "source": [
    "extractRelations(query_lst)\n",
    "extractLabels(query_lst)"
   ]
  },
  {
   "cell_type": "markdown",
   "metadata": {},
   "source": [
    "Copy DBpedia csvs and move back to the db"
   ]
  },
  {
   "cell_type": "code",
   "execution_count": 12,
   "metadata": {},
   "outputs": [
    {
     "name": "stdout",
     "output_type": "stream",
     "text": [
      "Adding DBpedia relationships\n",
      "Adding DBpedia labels\n"
     ]
    }
   ],
   "source": [
    "addDBpediaInfo()"
   ]
  },
  {
   "cell_type": "code",
   "execution_count": null,
   "metadata": {},
   "outputs": [
    {
     "name": "stderr",
     "output_type": "stream",
     "text": [
      "0it [00:00, ?it/s]"
     ]
    },
    {
     "name": "stderr",
     "output_type": "stream",
     "text": [
      "4705it [01:32, 50.01it/s]"
     ]
    },
    {
     "name": "stdout",
     "output_type": "stream",
     "text": [
      "Couldn't find 0\n"
     ]
    },
    {
     "name": "stderr",
     "output_type": "stream",
     "text": [
      "7830it [02:36, 50.17it/s]\n"
     ]
    }
   ],
   "source": [
    "# Extract answers\n",
    "URI = \"neo4j://localhost\"\n",
    "AUTH = (\"neo4j\", el.NEO4J_PWD)\n",
    "result = []\n",
    "\n",
    "with open(\"v1.0-simplified_nq-dev-all.jsonl\") as file:\n",
    "    for line in tqdm(file):\n",
    "        line = io.StringIO(line)\n",
    "        jsonObj = pd.read_json(path_or_buf=line, lines=True)\n",
    "        result.append(extractAnswers(jsonObj, URI, AUTH))"
   ]
  },
  {
   "cell_type": "code",
   "execution_count": 3,
   "metadata": {},
   "outputs": [
    {
     "name": "stdout",
     "output_type": "stream",
     "text": [
      "Pages not found in Neo4j: 1\n",
      "Questions with no answers: 2331\n",
      "Non-found chunks: 19\n",
      "Found answers: 5479\n"
     ]
    }
   ],
   "source": [
    "df_result = pd.DataFrame(result, columns = ['question', 'result']) \n",
    "print(\"Pages not found in Neo4j: \" + str(len(df_result[df_result[\"result\"] == \"Page not found in Neo4j\"])))\n",
    "print(\"Questions with no answers: \" + str(len(df_result[df_result[\"result\"] == \"No answer provided\"])))\n",
    "print(\"Non-found chunks: \" + str(len(df_result[df_result[\"result\"] == \"not found\"])))\n",
    "print(\"Found answers: \" + str(len(df_result[df_result[\"result\"] == \"found\"])))\n"
   ]
  },
  {
   "cell_type": "code",
   "execution_count": null,
   "metadata": {},
   "outputs": [],
   "source": [
    "# Import answers\n",
    "writeAnswers(URI, AUTH)"
   ]
  },
  {
   "cell_type": "code",
   "execution_count": 41,
   "metadata": {},
   "outputs": [],
   "source": [
    "# Remove non-requested DBpedia relaitonships\n",
    "with GraphDatabase.driver(URI, auth=AUTH) as driver:\n",
    "    pair_lst, summary, keys = driver.execute_query(\n",
    "        \"\"\"CALL apoc.periodic.iterate(\n",
    "        \"MATCH (a:Page)-[r:vector_rel]-(b:Page)\n",
    "        WHERE NOT (a)-[:cited_in]->(:Chunk)-[:same_page]->(:Chunk)-[:cites]->(b)\n",
    "        AND NOT (a)-[:has_chunk]->(:Chunk)-[:cites]->(b)\n",
    "        AND NOT (b)-[:has_chunk]->(:Chunk)-[:cites]->(a)\n",
    "        AND NOT (a)-[:cited_in]->(:Chunk)-[:cites]->(b)\n",
    "        AND ID(a) > ID(b)\n",
    "        RETURN a, r, b\",\n",
    "        \"DELETE r\",\n",
    "        {batchSize:1000, parallel:false}\n",
    "        )\n",
    "        YIELD batches, total, timeTaken, committedOperations\n",
    "        RETURN batches, total, timeTaken, committedOperations;\"\"\",\n",
    "    )"
   ]
  },
  {
   "cell_type": "code",
   "execution_count": 37,
   "metadata": {},
   "outputs": [
    {
     "data": {
      "text/plain": [
       "556367"
      ]
     },
     "execution_count": 37,
     "metadata": {},
     "output_type": "execute_result"
    }
   ],
   "source": [
    "pair_lst[0]['committedOperations']"
   ]
  }
 ],
 "metadata": {
  "kernelspec": {
   "display_name": "ai-coe-blueprint",
   "language": "python",
   "name": "python3"
  },
  "language_info": {
   "codemirror_mode": {
    "name": "ipython",
    "version": 3
   },
   "file_extension": ".py",
   "mimetype": "text/x-python",
   "name": "python",
   "nbconvert_exporter": "python",
   "pygments_lexer": "ipython3",
   "version": "3.10.10"
  }
 },
 "nbformat": 4,
 "nbformat_minor": 2
}
